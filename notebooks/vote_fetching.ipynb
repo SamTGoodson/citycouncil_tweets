{
 "cells": [
  {
   "cell_type": "code",
   "execution_count": 2,
   "metadata": {},
   "outputs": [],
   "source": [
    "from dash import Dash, html, dcc, callback, Output, Input,State\n",
    "import dash_bootstrap_components as dbc\n",
    "import pandas as pd\n",
    "import numpy as np\n",
    "import geopandas as gpd\n",
    "import dash_leaflet as dl\n",
    "import plotly.figure_factory as ff\n",
    "import json"
   ]
  },
  {
   "cell_type": "code",
   "execution_count": 3,
   "metadata": {},
   "outputs": [],
   "source": [
    "import requests"
   ]
  },
  {
   "cell_type": "code",
   "execution_count": 4,
   "metadata": {},
   "outputs": [],
   "source": [
    "import os\n",
    "from datetime import datetime"
   ]
  },
  {
   "cell_type": "code",
   "execution_count": 6,
   "metadata": {},
   "outputs": [],
   "source": [
    "cc_api_key = os.environ.get('cc_api_key')\n",
    "\n",
    "\n",
    "TODAY = datetime.today()\n",
    "SESS_BEGIN = TODAY.replace(year=TODAY.year - ((TODAY.year % 4) - 2), month=1, day=1).strftime(\"%Y-%m-%d\") if (TODAY.year % 4) >= 2 else TODAY.replace(year=TODAY.year - ((TODAY.year % 4) + 2), month=1, day=1).strftime(\"%Y-%m-%d\")\n",
    "SESS_END = \"{}-{}-{}\".format(int(SESS_BEGIN.split(\"-\")[0]) + 3, 12, 31)"
   ]
  },
  {
   "cell_type": "code",
   "execution_count": 9,
   "metadata": {},
   "outputs": [],
   "source": [
    "def get_votes():\n",
    "    all_votes = []\n",
    "\n",
    "    CM_RAW = requests.get(url=\"https://webapi.legistar.com/v1/nyc/Bodies/1/OfficeRecords/?$filter=OfficeRecordStartDate+eq+datetime'{}'&token={}\".format(SESS_BEGIN, cc_api_key))\n",
    "    CM_RAW = CM_RAW.json()\n",
    "    for CM in CM_RAW:\n",
    "        PERSON_DATA = requests.get(url=\"https://webapi.legistar.com/v1/nyc/Persons/{}/?&token={}\".format(CM[\"OfficeRecordPersonId\"], cc_api_key))\n",
    "        CM_PERSONAL_DATA = PERSON_DATA.json()\n",
    "    \n",
    "        VOTES = requests.get(url=\"https://webapi.legistar.com/v1/nyc/Persons/{}/votes/?$filter=VoteLastModifiedUtc+gt+datetime'{}'&token={}\".format(CM_PERSONAL_DATA[\"PersonId\"], SESS_BEGIN, cc_api_key))\n",
    "        VOTES_JSON = VOTES.json()\n",
    "    \n",
    "        all_votes.extend(VOTES_JSON)\n",
    "\n",
    "    VOTER = pd.DataFrame(all_votes)\n",
    "    return VOTER\n"
   ]
  },
  {
   "cell_type": "code",
   "execution_count": 22,
   "metadata": {},
   "outputs": [],
   "source": [
    "CM_RAW = requests.get(url=\"https://webapi.legistar.com/v1/nyc/Bodies/1/OfficeRecords/?$filter=OfficeRecordStartDate+eq+datetime'{}'&token={}\".format(SESS_BEGIN, cc_api_key))"
   ]
  },
  {
   "cell_type": "code",
   "execution_count": 23,
   "metadata": {},
   "outputs": [
    {
     "data": {
      "text/plain": [
       "<Response [200]>"
      ]
     },
     "execution_count": 23,
     "metadata": {},
     "output_type": "execute_result"
    }
   ],
   "source": [
    "CM_RAW"
   ]
  },
  {
   "cell_type": "code",
   "execution_count": 26,
   "metadata": {},
   "outputs": [],
   "source": [
    "def find_close_votes():\n",
    "    df = get_votes()\n",
    "    vote_counts = df.groupby(['VoteEventItemId', 'VoteValueName']).size()\n",
    "    pivot_table = vote_counts.unstack(fill_value=0)\n",
    "    pivot_table = pivot_table.reset_index()\n",
    "\n",
    "    pivot_table['anti'] = pivot_table['Negative'] + pivot_table['Abstain']\n",
    "    pivot_table['total'] = pivot_table['Affirmative'] + pivot_table['anti']\n",
    "    pivot_table['ratio'] = pivot_table['anti'] / pivot_table['Affirmative']\n",
    "\n",
    "    pivot_table = pivot_table[pivot_table['ratio'].notna()]\n",
    "    pivot_table.replace([np.inf, -np.inf], np.nan, inplace=True)\n",
    "\n",
    "    full = pivot_table[pivot_table['total'] > 45]\n",
    "    top_ratio = full.sort_values('ratio', ascending=False).head(100)\n",
    "\n",
    "    ratio_ids = top_ratio['VoteEventItemId'].tolist()\n",
    "    full_ratio = df[df['VoteEventItemId'].isin(ratio_ids)]\n",
    "\n",
    "    fr_pivot = full_ratio.pivot_table(index='VotePersonName', columns='VoteEventItemId', values='VoteValueId')\n",
    "    fr_pivot.dropna(axis=1, how='any', inplace=True)\n",
    "\n",
    "    return fr_pivot"
   ]
  },
  {
   "cell_type": "code",
   "execution_count": 10,
   "metadata": {},
   "outputs": [],
   "source": [
    "def find_close_votes_cat():\n",
    "    df = get_votes()\n",
    "    vote_counts = df.groupby(['VoteEventItemId', 'VoteValueName']).size()\n",
    "    pivot_table = vote_counts.unstack(fill_value=0)\n",
    "    pivot_table = pivot_table.reset_index()\n",
    "\n",
    "    pivot_table['anti'] = pivot_table['Negative'] + pivot_table['Abstain']\n",
    "    pivot_table['total'] = pivot_table['Affirmative'] + pivot_table['anti']\n",
    "    pivot_table['ratio'] = pivot_table['anti'] / pivot_table['Affirmative']\n",
    "\n",
    "    pivot_table = pivot_table[pivot_table['ratio'].notna()]\n",
    "    pivot_table.replace([np.inf, -np.inf], np.nan, inplace=True)\n",
    "\n",
    "    full = pivot_table[pivot_table['total'] > 45]\n",
    "    top_ratio = full.sort_values('ratio', ascending=False).head(100)\n",
    "\n",
    "    ratio_ids = top_ratio['VoteEventItemId'].tolist()\n",
    "    full_ratio = df[df['VoteEventItemId'].isin(ratio_ids)]\n",
    "\n",
    "    fr_pivot = full_ratio.pivot_table(index='VotePersonName', columns='VoteEventItemId', values='VoteValueName')\n",
    "    fr_pivot.dropna(axis=1, how='any', inplace=True)\n",
    "\n",
    "    return fr_pivot"
   ]
  },
  {
   "cell_type": "code",
   "execution_count": 24,
   "metadata": {},
   "outputs": [],
   "source": [
    "df = get_votes()"
   ]
  },
  {
   "cell_type": "code",
   "execution_count": 27,
   "metadata": {},
   "outputs": [],
   "source": [
    "votes_df = find_close_votes()"
   ]
  },
  {
   "cell_type": "code",
   "execution_count": 14,
   "metadata": {},
   "outputs": [],
   "source": [
    "raw_votes = get_votes()"
   ]
  },
  {
   "cell_type": "code",
   "execution_count": 28,
   "metadata": {},
   "outputs": [],
   "source": [
    "vote_counts = raw_votes.groupby(['VoteEventItemId', 'VoteValueName']).size()\n",
    "pivot_table = vote_counts.unstack(fill_value=0)\n",
    "pivot_table = pivot_table.reset_index()\n",
    "\n",
    "pivot_table['anti'] = pivot_table['Negative'] + pivot_table['Abstain']\n",
    "pivot_table['total'] = pivot_table['Affirmative'] + pivot_table['anti']\n",
    "pivot_table['ratio'] = pivot_table['anti'] / pivot_table['Affirmative']"
   ]
  },
  {
   "cell_type": "code",
   "execution_count": 29,
   "metadata": {},
   "outputs": [],
   "source": [
    "pivot_table = pivot_table[pivot_table['ratio'].notna()]\n",
    "pivot_table.replace([np.inf, -np.inf], np.nan, inplace=True)\n",
    "\n",
    "full = pivot_table[pivot_table['total'] > 45]\n",
    "top_ratio = full.sort_values('ratio', ascending=False).head(100)\n",
    "\n",
    "ratio_ids = top_ratio['VoteEventItemId'].tolist()\n",
    "full_ratio = raw_votes[raw_votes['VoteEventItemId'].isin(ratio_ids)]"
   ]
  },
  {
   "cell_type": "code",
   "execution_count": 26,
   "metadata": {},
   "outputs": [],
   "source": [
    "cat_pivot = full_ratio.pivot_table(index='VotePersonName', columns='VoteEventItemId', values='VoteValueName', aggfunc=lambda x: ' '.join(x))"
   ]
  },
  {
   "cell_type": "code",
   "execution_count": 27,
   "metadata": {},
   "outputs": [],
   "source": [
    "cat_pivot.dropna(axis=1, how='any', inplace=True)"
   ]
  },
  {
   "cell_type": "code",
   "execution_count": 30,
   "metadata": {},
   "outputs": [],
   "source": [
    "num_pivot = full_ratio.pivot_table(index='VotePersonName', columns='VoteEventItemId', values='VoteValueId')\n",
    "num_pivot.dropna(axis=1, how='any', inplace=True)"
   ]
  },
  {
   "cell_type": "code",
   "execution_count": 30,
   "metadata": {},
   "outputs": [],
   "source": [
    "votes_df.to_csv('c:/Users/samtg/github/citycouncil_tweets/data/votes.csv')"
   ]
  },
  {
   "cell_type": "code",
   "execution_count": 31,
   "metadata": {},
   "outputs": [],
   "source": [
    "cat_pivot.to_csv('c:/Users/samtg/github/citycouncil_tweets/data/votes_cat.csv')\n",
    "num_pivot.to_csv('c:/Users/samtg/github/citycouncil_tweets/data/votes_num.csv')"
   ]
  }
 ],
 "metadata": {
  "kernelspec": {
   "display_name": "venv",
   "language": "python",
   "name": "python3"
  },
  "language_info": {
   "codemirror_mode": {
    "name": "ipython",
    "version": 3
   },
   "file_extension": ".py",
   "mimetype": "text/x-python",
   "name": "python",
   "nbconvert_exporter": "python",
   "pygments_lexer": "ipython3",
   "version": "3.11.4"
  }
 },
 "nbformat": 4,
 "nbformat_minor": 2
}
