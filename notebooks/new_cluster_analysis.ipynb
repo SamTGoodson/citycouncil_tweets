{
 "cells": [
  {
   "cell_type": "code",
   "execution_count": 1,
   "metadata": {},
   "outputs": [],
   "source": [
    "import pandas as pd\n",
    "import numpy as np\n",
    "\n",
    "from fuzzywuzzy import process\n",
    "from fuzzywuzzy import fuzz\n",
    "\n",
    "import re\n",
    "from sklearn.feature_extraction.text import TfidfVectorizer\n",
    "from collections import Counter\n",
    "\n",
    "from nltk.corpus import stopwords\n",
    "import nltk\n"
   ]
  },
  {
   "cell_type": "code",
   "execution_count": 92,
   "metadata": {},
   "outputs": [],
   "source": [
    "from sklearn.preprocessing import StandardScaler\n",
    "from sklearn.cluster import KMeans"
   ]
  },
  {
   "cell_type": "code",
   "execution_count": 94,
   "metadata": {},
   "outputs": [],
   "source": [
    "from matplotlib import pyplot as plt"
   ]
  },
  {
   "cell_type": "code",
   "execution_count": 2,
   "metadata": {},
   "outputs": [],
   "source": [
    "from vaderSentiment.vaderSentiment import SentimentIntensityAnalyzer\n",
    "sia = SentimentIntensityAnalyzer()"
   ]
  },
  {
   "cell_type": "code",
   "execution_count": 3,
   "metadata": {},
   "outputs": [],
   "source": [
    "tweet_df = pd.read_csv('../data/tweet_df.csv')\n",
    "clusters = pd.read_csv('../../cc_election_cleaning/clusters_with_names_dec4.csv')"
   ]
  },
  {
   "cell_type": "code",
   "execution_count": 4,
   "metadata": {},
   "outputs": [],
   "source": [
    "name_list = tweet_df['full_name'].unique()"
   ]
  },
  {
   "cell_type": "code",
   "execution_count": 5,
   "metadata": {},
   "outputs": [],
   "source": [
    "def match_names(name, names_list):\n",
    "    match, score = process.extractOne(name, names_list, scorer=fuzz.token_sort_ratio)\n",
    "    return match if score >= 90 else name"
   ]
  },
  {
   "cell_type": "code",
   "execution_count": 6,
   "metadata": {},
   "outputs": [],
   "source": [
    "def preprocess_text(text, stopwords):\n",
    "    text = re.sub(r'http\\S+|www\\S+|@\\w+|#\\w+', '', text.lower())  \n",
    "    text = re.sub(r'[^\\w\\s]', '', text)  \n",
    "    tokens = [word for word in text.split() if word not in stopwords]  \n",
    "    return ' '.join(tokens)"
   ]
  },
  {
   "cell_type": "code",
   "execution_count": 7,
   "metadata": {},
   "outputs": [],
   "source": [
    "clusters['twitter_name'] = clusters['matched_name'].apply(lambda x: match_names(x, name_list.tolist()))"
   ]
  },
  {
   "cell_type": "code",
   "execution_count": 8,
   "metadata": {},
   "outputs": [],
   "source": [
    "fc = clusters[['twitter_name','kmode_cluster']]"
   ]
  },
  {
   "cell_type": "code",
   "execution_count": 9,
   "metadata": {},
   "outputs": [],
   "source": [
    "tweet_fc = tweet_df.merge(fc, left_on='full_name', right_on='twitter_name', how='left')"
   ]
  },
  {
   "cell_type": "code",
   "execution_count": 10,
   "metadata": {},
   "outputs": [],
   "source": [
    "tweet_fc = tweet_fc[['date','text','twitter_name','kmode_cluster']]"
   ]
  },
  {
   "cell_type": "code",
   "execution_count": 11,
   "metadata": {},
   "outputs": [
    {
     "name": "stderr",
     "output_type": "stream",
     "text": [
      "C:\\Users\\samtg\\AppData\\Local\\Temp\\ipykernel_23680\\3301695755.py:2: UserWarning: Converting to PeriodArray/Index representation will drop timezone information.\n",
      "  tweet_fc['month'] = tweet_fc['date'].dt.to_period('M')\n"
     ]
    }
   ],
   "source": [
    "tweet_fc['date'] = pd.to_datetime(tweet_fc['date'])\n",
    "tweet_fc['month'] = tweet_fc['date'].dt.to_period('M')"
   ]
  },
  {
   "cell_type": "code",
   "execution_count": 12,
   "metadata": {},
   "outputs": [],
   "source": [
    "tweet_fc.dropna(subset=['twitter_name'], inplace=True)"
   ]
  },
  {
   "cell_type": "markdown",
   "metadata": {},
   "source": [
    "tf_idf"
   ]
  },
  {
   "cell_type": "code",
   "execution_count": 147,
   "metadata": {},
   "outputs": [],
   "source": [
    "df = tweet_fc.copy()"
   ]
  },
  {
   "cell_type": "code",
   "execution_count": 148,
   "metadata": {},
   "outputs": [],
   "source": [
    "df = df[df['date'] < '2021-07-01']"
   ]
  },
  {
   "cell_type": "code",
   "execution_count": 15,
   "metadata": {},
   "outputs": [
    {
     "name": "stderr",
     "output_type": "stream",
     "text": [
      "[nltk_data] Downloading package stopwords to\n",
      "[nltk_data]     C:\\Users\\samtg\\AppData\\Roaming\\nltk_data...\n",
      "[nltk_data]   Unzipping corpora\\stopwords.zip.\n"
     ]
    },
    {
     "data": {
      "text/plain": [
       "True"
      ]
     },
     "execution_count": 15,
     "metadata": {},
     "output_type": "execute_result"
    }
   ],
   "source": [
    "nltk.download('stopwords')"
   ]
  },
  {
   "cell_type": "code",
   "execution_count": 16,
   "metadata": {},
   "outputs": [],
   "source": [
    "standard_stopwords = set(stopwords.words('english'))\n",
    "custom_stopwords = {'us','day','amp','thank','new','today','us','im','get','council','district','need','great',\n",
    "                    'work','nyc','city','join','support','office','proud','time','see','public','people','happy',\n",
    "                    'make','help','many','thanks','first','must','year','one','communities','together','last',\n",
    "                    'like','please','much','york','yorkers','every','de','colleagues','event','forward','love''members',\n",
    "                     'bronx','brooklyn','manhattan','queens','staten','island','community','important','team','week',\n",
    "                      'love','continue','joined','free','tomorrow', 'years','know', 'vote','voter','voters', 'lets','back','congratulations',\n",
    "                       'campaign','endorsement', 'neighbors','honored','keep','also','good','right','sign',\n",
    "                        'local', 'look', 'still','working', 'look', 'looking', 'congressman', '15','yes','go',\n",
    "                         'south','hunts','point','1','everyone','come','stand','way','cant','well','open','would',\n",
    "                         'always','dont','better','take','workers','vaccine','elmhurst','holden','sure'} \n",
    "all_stopwords = standard_stopwords.union(custom_stopwords)"
   ]
  },
  {
   "cell_type": "code",
   "execution_count": 149,
   "metadata": {},
   "outputs": [],
   "source": [
    "df['processed_text'] = df['text'].apply(lambda x: preprocess_text(x, all_stopwords))"
   ]
  },
  {
   "cell_type": "code",
   "execution_count": 150,
   "metadata": {},
   "outputs": [
    {
     "name": "stdout",
     "output_type": "stream",
     "text": [
      "[('fight', 903), ('justice', 703), ('housing', 545), ('pandemic', 543), ('health', 499), ('women', 480), ('families', 476), ('safe', 472), ('park', 462), ('black', 442), ('food', 441), ('next', 432), ('family', 417), ('fighting', 416), ('excited', 412), ('want', 399), ('state', 398), ('may', 396), ('voting', 392), ('call', 390)]\n"
     ]
    }
   ],
   "source": [
    "all_words = ' '.join(df['processed_text']).split()\n",
    "word_freq = Counter(all_words)\n",
    "print(word_freq.most_common(20))"
   ]
  },
  {
   "cell_type": "code",
   "execution_count": 151,
   "metadata": {},
   "outputs": [],
   "source": [
    "member_texts = df.groupby('twitter_name')['processed_text'].apply(lambda x: ' '.join(x)).reset_index()"
   ]
  },
  {
   "cell_type": "code",
   "execution_count": 152,
   "metadata": {},
   "outputs": [],
   "source": [
    "tfidf_vectorizer = TfidfVectorizer()"
   ]
  },
  {
   "cell_type": "code",
   "execution_count": 153,
   "metadata": {},
   "outputs": [],
   "source": [
    "tfidf_matrix = tfidf_vectorizer.fit_transform(member_texts['processed_text'])\n",
    "tfidf_df = pd.DataFrame(tfidf_matrix.toarray(), columns=tfidf_vectorizer.get_feature_names_out(), index=member_texts['twitter_name'])"
   ]
  },
  {
   "cell_type": "code",
   "execution_count": 154,
   "metadata": {},
   "outputs": [],
   "source": [
    "top_n = 10 \n",
    "characteristic_words = {}\n",
    "for cluster in tfidf_df.index:\n",
    "    sorted_words = tfidf_df.loc[cluster].sort_values(ascending=False).head(top_n)\n",
    "    characteristic_words[cluster] = sorted_words.index.tolist()"
   ]
  },
  {
   "cell_type": "code",
   "execution_count": 155,
   "metadata": {},
   "outputs": [],
   "source": [
    "characteristic_words_df = pd.DataFrame(characteristic_words).T"
   ]
  },
  {
   "cell_type": "markdown",
   "metadata": {},
   "source": [
    "Not telling us much, lets look at specific categories and then sentiments "
   ]
  },
  {
   "cell_type": "code",
   "execution_count": 170,
   "metadata": {},
   "outputs": [],
   "source": [
    "cop_words = ['cop', 'police', 'nypd','policing','public safety','plainclothes']\n",
    "crime = ['criminal','crime','violence','gun','shoot']\n",
    "transit_words = ['bus','bus rider','train','subway','mta','transit','fare']\n",
    "bike_words = ['bike','bike lane','protected bike lane','cycle','cyclist']\n",
    "housing_words = ['housing','rent','zoning','section 8','voucher']\n",
    "landlord_words = ['landlord']\n",
    "tenant_words = ['tenant']\n",
    "educ_words = ['education','teacher','school','student','classroom']\n",
    "dsa = ['dsa','socialist']\n",
    "blas = ['blasio','deblasio']\n",
    "jail = ['jail','prison','rikers','incarceration']\n",
    "palestine = ['palestine']\n",
    "lgbtq = ['lgbtq','trans','transsexual','gay','lesbian','queer','bisexual']\n",
    "covid = ['covid','coronavirus','pandemic']\n",
    "vaccine = ['vaccine','vaccination']\n",
    "black = ['black','african american','african-american','bipoc']\n",
    "immigrant = ['immigrant','immigration','migrant']"
   ]
  },
  {
   "cell_type": "code",
   "execution_count": 129,
   "metadata": {},
   "outputs": [],
   "source": [
    "def make_topic_tweets(df, topic):\n",
    "    df_tweets = df[df['text'].str.contains('|'.join(topic), case=False)]\n",
    "    df_topic_tweets = df_tweets[df_tweets['date'] < '2021-07-01']\n",
    "    return df_topic_tweets"
   ]
  },
  {
   "cell_type": "code",
   "execution_count": 172,
   "metadata": {},
   "outputs": [],
   "source": [
    "cop_tweets = make_topic_tweets(tweet_fc, cop_words)\n",
    "crime_tweets = make_topic_tweets(tweet_fc, crime)\n",
    "transit_tweets = make_topic_tweets(tweet_fc, transit_words)\n",
    "bike_tweets = make_topic_tweets(tweet_fc, bike_words)\n",
    "housing_tweets = make_topic_tweets(tweet_fc, housing_words)\n",
    "landlord_tweets = make_topic_tweets(tweet_fc, landlord_words)\n",
    "tenant_tweets = make_topic_tweets(tweet_fc, tenant_words)\n",
    "educ_tweets = make_topic_tweets(tweet_fc, educ_words)\n",
    "dsa_tweets = make_topic_tweets(tweet_fc, dsa)\n",
    "blas_tweets = make_topic_tweets(tweet_fc, blas)\n",
    "jail_tweets = make_topic_tweets(tweet_fc, jail)\n",
    "palestine_tweets = make_topic_tweets(tweet_fc,palestine)\n",
    "lgbtq_tweets = make_topic_tweets(tweet_fc,lgbtq)\n",
    "covid_tweets = make_topic_tweets(tweet_fc,covid)\n",
    "vaccine_tweets = make_topic_tweets(tweet_fc,vaccine)\n",
    "black_tweets = make_topic_tweets(tweet_fc,black)\n",
    "immigrant_tweets = make_topic_tweets(tweet_fc,immigrant)"
   ]
  },
  {
   "cell_type": "code",
   "execution_count": 173,
   "metadata": {},
   "outputs": [],
   "source": [
    "for_sentiment= [cop_tweets,crime_tweets,bike_tweets,landlord_tweets,tenant_tweets,dsa_tweets,blas_tweets,jail_tweets,palestine_tweets,lgbtq_tweets,vaccine_tweets,black_tweets,immigrant_tweets]\n",
    "for_sentiment_names = ['cop','crime','bike','landlord','tenant','dsa','blas','jail','palestine','lgbtq','vaccine','black','immigrant']\n",
    "for_tfidf = [cop_tweets,crime_tweets,transit_tweets,housing_tweets,educ_tweets,dsa_tweets,blas_tweets,jail_tweets,lgbtq_tweets,covid_tweets,black_tweets,immigrant_tweets]\n",
    "for_tfidf_names = ['cop','crime','transit','housing','educ','dsa','blas','jail','lgbtq','covid','black','immigrant']"
   ]
  },
  {
   "cell_type": "code",
   "execution_count": 22,
   "metadata": {},
   "outputs": [],
   "source": [
    "cop_stops = ['nypd','police','cop','cops','policing','public safety','safety','officer','coney','safe','officers','violence',\n",
    "             'ty','12']\n",
    "all_stops_with_cop = all_stopwords.union(cop_stops)"
   ]
  },
  {
   "cell_type": "code",
   "execution_count": 23,
   "metadata": {},
   "outputs": [],
   "source": [
    "cop_tweets['processed_text'] = cop_tweets['text'].apply(lambda x: preprocess_text(x, all_stops_with_cop))"
   ]
  },
  {
   "cell_type": "code",
   "execution_count": 111,
   "metadata": {},
   "outputs": [],
   "source": [
    "cluster_texts = cop_tweets.groupby('kmode_cluster')['processed_text'].apply(lambda x: ' '.join(x)).reset_index()"
   ]
  },
  {
   "cell_type": "code",
   "execution_count": 112,
   "metadata": {},
   "outputs": [],
   "source": [
    "tfidf_vectorizer = TfidfVectorizer()\n",
    "tfidf_matrix = tfidf_vectorizer.fit_transform(cluster_texts['processed_text'])\n",
    "tfidf_df = pd.DataFrame(tfidf_matrix.toarray(), columns=tfidf_vectorizer.get_feature_names_out(), index=cluster_texts['kmode_cluster'])"
   ]
  },
  {
   "cell_type": "code",
   "execution_count": 113,
   "metadata": {},
   "outputs": [],
   "source": [
    "top_n = 10 \n",
    "characteristic_words = {}\n",
    "for cluster in tfidf_df.index:\n",
    "    sorted_words = tfidf_df.loc[cluster].sort_values(ascending=False).head(top_n)\n",
    "    characteristic_words[cluster] = sorted_words.index.tolist()\n",
    "\n",
    "characteristic_words_df = pd.DataFrame(characteristic_words).T"
   ]
  },
  {
   "cell_type": "code",
   "execution_count": 114,
   "metadata": {},
   "outputs": [
    {
     "data": {
      "text/html": [
       "<div>\n",
       "<style scoped>\n",
       "    .dataframe tbody tr th:only-of-type {\n",
       "        vertical-align: middle;\n",
       "    }\n",
       "\n",
       "    .dataframe tbody tr th {\n",
       "        vertical-align: top;\n",
       "    }\n",
       "\n",
       "    .dataframe thead th {\n",
       "        text-align: right;\n",
       "    }\n",
       "</style>\n",
       "<table border=\"1\" class=\"dataframe\">\n",
       "  <thead>\n",
       "    <tr style=\"text-align: right;\">\n",
       "      <th></th>\n",
       "      <th>0</th>\n",
       "      <th>1</th>\n",
       "      <th>2</th>\n",
       "      <th>3</th>\n",
       "      <th>4</th>\n",
       "      <th>5</th>\n",
       "      <th>6</th>\n",
       "      <th>7</th>\n",
       "      <th>8</th>\n",
       "      <th>9</th>\n",
       "    </tr>\n",
       "  </thead>\n",
       "  <tbody>\n",
       "    <tr>\n",
       "      <th>0.0</th>\n",
       "      <td>black</td>\n",
       "      <td>justice</td>\n",
       "      <td>housing</td>\n",
       "      <td>ccrb</td>\n",
       "      <td>hearing</td>\n",
       "      <td>committee</td>\n",
       "      <td>development</td>\n",
       "      <td>reform</td>\n",
       "      <td>invest</td>\n",
       "      <td>george</td>\n",
       "    </tr>\n",
       "    <tr>\n",
       "      <th>1.0</th>\n",
       "      <td>criminals</td>\n",
       "      <td>issues</td>\n",
       "      <td>via</td>\n",
       "      <td>neighborhoods</td>\n",
       "      <td>ncos</td>\n",
       "      <td>hate</td>\n",
       "      <td>another</td>\n",
       "      <td>maspeth</td>\n",
       "      <td>veterans</td>\n",
       "      <td>antipolice</td>\n",
       "    </tr>\n",
       "    <tr>\n",
       "      <th>2.0</th>\n",
       "      <td>hate</td>\n",
       "      <td>young</td>\n",
       "      <td>happen</td>\n",
       "      <td>guy</td>\n",
       "      <td>feel</td>\n",
       "      <td>floyd</td>\n",
       "      <td>news</td>\n",
       "      <td>family</td>\n",
       "      <td>multilingual</td>\n",
       "      <td>responsible</td>\n",
       "    </tr>\n",
       "    <tr>\n",
       "      <th>3.0</th>\n",
       "      <td>black</td>\n",
       "      <td>budget</td>\n",
       "      <td>health</td>\n",
       "      <td>invest</td>\n",
       "      <td>brown</td>\n",
       "      <td>services</td>\n",
       "      <td>students</td>\n",
       "      <td>housing</td>\n",
       "      <td>justice</td>\n",
       "      <td>schools</td>\n",
       "    </tr>\n",
       "    <tr>\n",
       "      <th>4.0</th>\n",
       "      <td>civic</td>\n",
       "      <td>hate</td>\n",
       "      <td>attacks</td>\n",
       "      <td>residents</td>\n",
       "      <td>action</td>\n",
       "      <td>prepared</td>\n",
       "      <td>fresh</td>\n",
       "      <td>association</td>\n",
       "      <td>food</td>\n",
       "      <td>anyone</td>\n",
       "    </tr>\n",
       "  </tbody>\n",
       "</table>\n",
       "</div>"
      ],
      "text/plain": [
       "             0        1        2              3        4          5  \\\n",
       "0.0      black  justice  housing           ccrb  hearing  committee   \n",
       "1.0  criminals   issues      via  neighborhoods     ncos       hate   \n",
       "2.0       hate    young   happen            guy     feel      floyd   \n",
       "3.0      black   budget   health         invest    brown   services   \n",
       "4.0      civic     hate  attacks      residents   action   prepared   \n",
       "\n",
       "               6            7             8            9  \n",
       "0.0  development       reform        invest       george  \n",
       "1.0      another      maspeth      veterans   antipolice  \n",
       "2.0         news       family  multilingual  responsible  \n",
       "3.0     students      housing       justice      schools  \n",
       "4.0        fresh  association          food       anyone  "
      ]
     },
     "execution_count": 114,
     "metadata": {},
     "output_type": "execute_result"
    }
   ],
   "source": [
    "characteristic_words_df"
   ]
  },
  {
   "cell_type": "markdown",
   "metadata": {},
   "source": [
    "Lets pull out some example tweets"
   ]
  },
  {
   "cell_type": "code",
   "execution_count": 118,
   "metadata": {},
   "outputs": [],
   "source": [
    "pd.set_option('display.max_colwidth', None)"
   ]
  },
  {
   "cell_type": "code",
   "execution_count": 115,
   "metadata": {},
   "outputs": [],
   "source": [
    "cluster_three = cop_tweets[cop_tweets['kmode_cluster'] == 3]"
   ]
  },
  {
   "cell_type": "code",
   "execution_count": 120,
   "metadata": {},
   "outputs": [],
   "source": [
    "search_words = ['landlord']\n",
    "found_tweets = tweet_fc[tweet_fc['text'].str.contains('|'.join(search_words), case=False)]"
   ]
  },
  {
   "cell_type": "code",
   "execution_count": 121,
   "metadata": {},
   "outputs": [
    {
     "data": {
      "text/html": [
       "<div>\n",
       "<style scoped>\n",
       "    .dataframe tbody tr th:only-of-type {\n",
       "        vertical-align: middle;\n",
       "    }\n",
       "\n",
       "    .dataframe tbody tr th {\n",
       "        vertical-align: top;\n",
       "    }\n",
       "\n",
       "    .dataframe thead th {\n",
       "        text-align: right;\n",
       "    }\n",
       "</style>\n",
       "<table border=\"1\" class=\"dataframe\">\n",
       "  <thead>\n",
       "    <tr style=\"text-align: right;\">\n",
       "      <th></th>\n",
       "      <th>text</th>\n",
       "      <th>twitter_name</th>\n",
       "    </tr>\n",
       "  </thead>\n",
       "  <tbody>\n",
       "    <tr>\n",
       "      <th>94981</th>\n",
       "      <td>I’m proud to have hosted this town hall for landlords in and out of my district. Right now my District and areas throughout New York are facing an influx of scammers who target small landlords. They pay one month’s rent and never pay again. They bring in more tenants than agreed… https://t.co/KymAfkorcI</td>\n",
       "      <td>Vickie Paladino</td>\n",
       "    </tr>\n",
       "    <tr>\n",
       "      <th>5868</th>\n",
       "      <td>Today the Committee on Civil and Human Rights held a hearing regarding  the controversial Intro 632 bill which would make it illegal for landlords to conduct criminal background checks on prospective tenants. (1/4) https://t.co/Q71uYHx0Se</td>\n",
       "      <td>Vickie Paladino</td>\n",
       "    </tr>\n",
       "    <tr>\n",
       "      <th>21479</th>\n",
       "      <td>Proud to be cosponsoring this legislation alongside @PiSanchezNYC. Landlords NEED to be held accountable if their buildings get repeat inspections because of tenant complaints. https://t.co/SpFwCgr3Ux</td>\n",
       "      <td>Pierina Ana Sanchez</td>\n",
       "    </tr>\n",
       "    <tr>\n",
       "      <th>39234</th>\n",
       "      <td>The Community Clinic for Tenants wants to make sure that you know your rights against landlord harassment!\\n\\nNYC already faces a housing crisis; we should not be getting pushed out of the homes we have.\\n\\nJoin us in this workshop to learn how you can assert your legal rights. https://t.co/MCdv7YpmVg</td>\n",
       "      <td>Carmen N. De La Rosa</td>\n",
       "    </tr>\n",
       "    <tr>\n",
       "      <th>108844</th>\n",
       "      <td>As a tenant lawyer who spent many hours in Bronx Housing Court, I saw the dirty tactics landlord-lawyers used to try to evict tenants. Also saw the difference in outcomes when tenants had a lawyer. Joining @ShaunAbreu @PiSanchezNYC in saying: no cases unless tenants are defended.</td>\n",
       "      <td>Oswald Feliz</td>\n",
       "    </tr>\n",
       "    <tr>\n",
       "      <th>4790</th>\n",
       "      <td>missed the day we were meant to post but…\\n\\nlandlords shouldn’t be able to evict &amp;amp; bosses shouldn’t be able to fire at-will. \\n\\nI’m proud to be in @nycdsa where @JuliaCarmel__ and @tiffany_caban are fighting for just cause for workers &amp;amp; tenants\\n\\nhttps://t.co/Ia2fx9Fiuh</td>\n",
       "      <td>Tiffany Cabán</td>\n",
       "    </tr>\n",
       "    <tr>\n",
       "      <th>76871</th>\n",
       "      <td>Are you a tenant behind on rent due to COVID-19, or a landlord with tenants who owe back rent? Apply now for the New York State Emergency Rental Assistance Program (ERAP), with the help of @NHSJamaica! For more information, visit https://t.co/Sg10iltjrI. https://t.co/DDRowxT37q</td>\n",
       "      <td>Adrienne E. Adams</td>\n",
       "    </tr>\n",
       "    <tr>\n",
       "      <th>144643</th>\n",
       "      <td>The Department of Buildings is hosting a \"How To Counter Harassment: Know Your Rights\" seminar tomorrow on what you can do if your landlord has created a hazardous environment in your home. Register here: \\n\\nhttps://t.co/c1KK7tYGsE</td>\n",
       "      <td>Shahana K. Hanif</td>\n",
       "    </tr>\n",
       "    <tr>\n",
       "      <th>116754</th>\n",
       "      <td>Facial recognition + biometric identifiers often misidentify people of color, women + non-binary people, and can be used by landlords to harass + evict tenants. I rallied today ahead of my bill’s hearing to limit use of biometrics in residential settings. #banthescan https://t.co/vcS42poE8k</td>\n",
       "      <td>Carlina Rivera</td>\n",
       "    </tr>\n",
       "    <tr>\n",
       "      <th>90379</th>\n",
       "      <td>Source of income discrimination is illegal in New York City, which was strengthened by my recent law to expand protected tenants. Landlords need to follow the law.\\n\\nWe also need to add more resources to enforcement, which we’ve been fighting for since 2019.</td>\n",
       "      <td>Keith Powers</td>\n",
       "    </tr>\n",
       "  </tbody>\n",
       "</table>\n",
       "</div>"
      ],
      "text/plain": [
       "                                                                                                                                                                                                                                                                                                                    text  \\\n",
       "94981   I’m proud to have hosted this town hall for landlords in and out of my district. Right now my District and areas throughout New York are facing an influx of scammers who target small landlords. They pay one month’s rent and never pay again. They bring in more tenants than agreed… https://t.co/KymAfkorcI   \n",
       "5868                                                                      Today the Committee on Civil and Human Rights held a hearing regarding  the controversial Intro 632 bill which would make it illegal for landlords to conduct criminal background checks on prospective tenants. (1/4) https://t.co/Q71uYHx0Se   \n",
       "21479                                                                                                           Proud to be cosponsoring this legislation alongside @PiSanchezNYC. Landlords NEED to be held accountable if their buildings get repeat inspections because of tenant complaints. https://t.co/SpFwCgr3Ux   \n",
       "39234     The Community Clinic for Tenants wants to make sure that you know your rights against landlord harassment!\\n\\nNYC already faces a housing crisis; we should not be getting pushed out of the homes we have.\\n\\nJoin us in this workshop to learn how you can assert your legal rights. https://t.co/MCdv7YpmVg   \n",
       "108844                          As a tenant lawyer who spent many hours in Bronx Housing Court, I saw the dirty tactics landlord-lawyers used to try to evict tenants. Also saw the difference in outcomes when tenants had a lawyer. Joining @ShaunAbreu @PiSanchezNYC in saying: no cases unless tenants are defended.   \n",
       "4790                           missed the day we were meant to post but…\\n\\nlandlords shouldn’t be able to evict &amp; bosses shouldn’t be able to fire at-will. \\n\\nI’m proud to be in @nycdsa where @JuliaCarmel__ and @tiffany_caban are fighting for just cause for workers &amp; tenants\\n\\nhttps://t.co/Ia2fx9Fiuh   \n",
       "76871                             Are you a tenant behind on rent due to COVID-19, or a landlord with tenants who owe back rent? Apply now for the New York State Emergency Rental Assistance Program (ERAP), with the help of @NHSJamaica! For more information, visit https://t.co/Sg10iltjrI. https://t.co/DDRowxT37q   \n",
       "144643                                                                          The Department of Buildings is hosting a \"How To Counter Harassment: Know Your Rights\" seminar tomorrow on what you can do if your landlord has created a hazardous environment in your home. Register here: \\n\\nhttps://t.co/c1KK7tYGsE   \n",
       "116754               Facial recognition + biometric identifiers often misidentify people of color, women + non-binary people, and can be used by landlords to harass + evict tenants. I rallied today ahead of my bill’s hearing to limit use of biometrics in residential settings. #banthescan https://t.co/vcS42poE8k   \n",
       "90379                                                Source of income discrimination is illegal in New York City, which was strengthened by my recent law to expand protected tenants. Landlords need to follow the law.\\n\\nWe also need to add more resources to enforcement, which we’ve been fighting for since 2019.   \n",
       "\n",
       "                twitter_name  \n",
       "94981        Vickie Paladino  \n",
       "5868         Vickie Paladino  \n",
       "21479    Pierina Ana Sanchez  \n",
       "39234   Carmen N. De La Rosa  \n",
       "108844          Oswald Feliz  \n",
       "4790           Tiffany Cabán  \n",
       "76871      Adrienne E. Adams  \n",
       "144643      Shahana K. Hanif  \n",
       "116754       Carlina Rivera   \n",
       "90379          Keith Powers   "
      ]
     },
     "execution_count": 121,
     "metadata": {},
     "output_type": "execute_result"
    }
   ],
   "source": [
    "found_tweets[['text','twitter_name']].sample(10)"
   ]
  },
  {
   "cell_type": "markdown",
   "metadata": {},
   "source": [
    "Cop Sentiment "
   ]
  },
  {
   "cell_type": "code",
   "execution_count": 76,
   "metadata": {},
   "outputs": [],
   "source": [
    "from sklearn.decomposition import PCA"
   ]
  },
  {
   "cell_type": "code",
   "execution_count": 101,
   "metadata": {},
   "outputs": [],
   "source": [
    "cop_tweets['vader_sentiment'] = cop_tweets['text'].apply(lambda x: sia.polarity_scores(x)['compound'])\n",
    "transit_tweets['vader_sentiment'] = transit_tweets['text'].apply(lambda x: sia.polarity_scores(x)['compound'])\n",
    "bike_tweets['vader_sentiment'] = bike_tweets['text'].apply(lambda x: sia.polarity_scores(x)['compound'])\n",
    "housing_tweets['vader_sentiment'] = housing_tweets['text'].apply(lambda x: sia.polarity_scores(x)['compound'])\n",
    "#educ_tweets['vader_sentiment'] = educ_tweets['text'].apply(lambda x: sia.polarity_scores(x)['compound'])\n",
    "#union_tweets['vader_sentiment'] = union_tweets['text'].apply(lambda x: sia.polarity_scores(x)['compound'])\n",
    "dsa_tweets['vader_sentiment'] = dsa_tweets['text'].apply(lambda x: sia.polarity_scores(x)['compound'])\n",
    "blas_tweets['vader_sentiment'] = blas_tweets['text'].apply(lambda x: sia.polarity_scores(x)['compound'])\n",
    "jail_tweets['vader_sentiment'] = jail_tweets['text'].apply(lambda x: sia.polarity_scores(x)['compound'])"
   ]
  },
  {
   "cell_type": "code",
   "execution_count": 136,
   "metadata": {},
   "outputs": [],
   "source": [
    "def get_sentiment(df):\n",
    "    df['vader_sentiment'] = df['text'].apply(lambda x: sia.polarity_scores(x)['compound'])\n",
    "    return df"
   ]
  },
  {
   "cell_type": "code",
   "execution_count": 25,
   "metadata": {},
   "outputs": [],
   "source": [
    "cop_tweets['pp_vader_sentiment'] = cop_tweets['processed_text'].apply(lambda x: sia.polarity_scores(x)['compound'])"
   ]
  },
  {
   "cell_type": "code",
   "execution_count": null,
   "metadata": {},
   "outputs": [],
   "source": [
    "member_cop_tweets = cop_tweets.groupby('twitter_name')['vader_sentiment'].mean().reset_index()\n",
    "member_transit_tweets = transit_tweets.groupby('twitter_name')['vader_sentiment'].mean().reset_index()\n",
    "member_bike_tweets = bike_tweets.groupby('twitter_name')['vader_sentiment'].mean().reset_index()\n",
    "member_housing_tweets = housing_tweets.groupby('twitter_name')['vader_sentiment'].mean().reset_index()\n",
    "#member_educ_tweets = educ_tweets.groupby('twitter_name')['vader_sentiment'].mean().reset_index()\n",
    "#member_union_tweets = union_tweets.groupby('twitter_name')['vader_sentiment'].mean().reset_index()\n",
    "member_dsa_tweets = dsa_tweets.groupby('twitter_name')['vader_sentiment'].mean().reset_index()\n",
    "member_blas_tweets = blas_tweets.groupby('twitter_name')['vader_sentiment'].mean().reset_index()\n",
    "member_jail_tweets = jail_tweets.groupby('twitter_name')['vader_sentiment'].mean().reset_index()"
   ]
  },
  {
   "cell_type": "code",
   "execution_count": 102,
   "metadata": {},
   "outputs": [],
   "source": [
    "datasets = [cop_tweets, transit_tweets, bike_tweets, housing_tweets, dsa_tweets, blas_tweets, jail_tweets]\n",
    "names = ['cop', 'transit', 'bike', 'housing',  'dsa', 'blas', 'jail']"
   ]
  },
  {
   "cell_type": "code",
   "execution_count": 103,
   "metadata": {},
   "outputs": [],
   "source": [
    "def get_vader_and_count(df,name:str):\n",
    "    member_df = df.groupby('twitter_name', as_index=False)['vader_sentiment'].mean()\n",
    "    member_df['count'] = df['twitter_name'].value_counts().reindex(member_df['twitter_name']).values\n",
    "    member_df.columns = ['twitter_name',f'{name}_vader_sentiment',f'{name}_count']\n",
    "    return member_df"
   ]
  },
  {
   "cell_type": "code",
   "execution_count": 174,
   "metadata": {},
   "outputs": [],
   "source": [
    "all_members = None  \n",
    "for df, name in zip(for_sentiment, for_sentiment_names): \n",
    "    df = get_sentiment(df)\n",
    "    member_df = get_vader_and_count(df, name)  \n",
    "    if all_members is None:\n",
    "        all_members = member_df  \n",
    "    else:\n",
    "        all_members = all_members.merge(member_df, on='twitter_name', how='outer') \n"
   ]
  },
  {
   "cell_type": "code",
   "execution_count": 175,
   "metadata": {},
   "outputs": [],
   "source": [
    "# replace Nan with 0\n",
    "all_members = all_members.fillna(0)"
   ]
  },
  {
   "cell_type": "code",
   "execution_count": 176,
   "metadata": {},
   "outputs": [
    {
     "data": {
      "text/html": [
       "<div>\n",
       "<style scoped>\n",
       "    .dataframe tbody tr th:only-of-type {\n",
       "        vertical-align: middle;\n",
       "    }\n",
       "\n",
       "    .dataframe tbody tr th {\n",
       "        vertical-align: top;\n",
       "    }\n",
       "\n",
       "    .dataframe thead th {\n",
       "        text-align: right;\n",
       "    }\n",
       "</style>\n",
       "<table border=\"1\" class=\"dataframe\">\n",
       "  <thead>\n",
       "    <tr style=\"text-align: right;\">\n",
       "      <th></th>\n",
       "      <th>twitter_name</th>\n",
       "      <th>cop_vader_sentiment</th>\n",
       "      <th>cop_count</th>\n",
       "      <th>crime_vader_sentiment</th>\n",
       "      <th>crime_count</th>\n",
       "      <th>bike_vader_sentiment</th>\n",
       "      <th>bike_count</th>\n",
       "      <th>landlord_vader_sentiment</th>\n",
       "      <th>landlord_count</th>\n",
       "      <th>tenant_vader_sentiment</th>\n",
       "      <th>...</th>\n",
       "      <th>palestine_vader_sentiment</th>\n",
       "      <th>palestine_count</th>\n",
       "      <th>lgbtq_vader_sentiment</th>\n",
       "      <th>lgbtq_count</th>\n",
       "      <th>vaccine_vader_sentiment</th>\n",
       "      <th>vaccine_count</th>\n",
       "      <th>black_vader_sentiment</th>\n",
       "      <th>black_count</th>\n",
       "      <th>immigrant_vader_sentiment</th>\n",
       "      <th>immigrant_count</th>\n",
       "    </tr>\n",
       "  </thead>\n",
       "  <tbody>\n",
       "    <tr>\n",
       "      <th>0</th>\n",
       "      <td>Adrienne E. Adams</td>\n",
       "      <td>0.151420</td>\n",
       "      <td>51.0</td>\n",
       "      <td>-0.363535</td>\n",
       "      <td>26.0</td>\n",
       "      <td>-0.64860</td>\n",
       "      <td>1.0</td>\n",
       "      <td>0.000000</td>\n",
       "      <td>0.0</td>\n",
       "      <td>0.372567</td>\n",
       "      <td>...</td>\n",
       "      <td>0.0000</td>\n",
       "      <td>0.0</td>\n",
       "      <td>0.073114</td>\n",
       "      <td>7.0</td>\n",
       "      <td>0.309704</td>\n",
       "      <td>26.0</td>\n",
       "      <td>0.169675</td>\n",
       "      <td>20.0</td>\n",
       "      <td>0.474575</td>\n",
       "      <td>8.0</td>\n",
       "    </tr>\n",
       "    <tr>\n",
       "      <th>1</th>\n",
       "      <td>Alexa Avilés</td>\n",
       "      <td>0.117637</td>\n",
       "      <td>59.0</td>\n",
       "      <td>-0.270168</td>\n",
       "      <td>22.0</td>\n",
       "      <td>0.21130</td>\n",
       "      <td>7.0</td>\n",
       "      <td>-0.388533</td>\n",
       "      <td>3.0</td>\n",
       "      <td>0.189750</td>\n",
       "      <td>...</td>\n",
       "      <td>0.8211</td>\n",
       "      <td>1.0</td>\n",
       "      <td>0.515422</td>\n",
       "      <td>37.0</td>\n",
       "      <td>0.152087</td>\n",
       "      <td>38.0</td>\n",
       "      <td>0.401573</td>\n",
       "      <td>15.0</td>\n",
       "      <td>0.309887</td>\n",
       "      <td>54.0</td>\n",
       "    </tr>\n",
       "    <tr>\n",
       "      <th>2</th>\n",
       "      <td>Althea V.  Stevens</td>\n",
       "      <td>0.098089</td>\n",
       "      <td>9.0</td>\n",
       "      <td>-0.358760</td>\n",
       "      <td>5.0</td>\n",
       "      <td>0.00000</td>\n",
       "      <td>0.0</td>\n",
       "      <td>0.000000</td>\n",
       "      <td>0.0</td>\n",
       "      <td>0.000000</td>\n",
       "      <td>...</td>\n",
       "      <td>0.0000</td>\n",
       "      <td>0.0</td>\n",
       "      <td>0.696575</td>\n",
       "      <td>4.0</td>\n",
       "      <td>0.000000</td>\n",
       "      <td>0.0</td>\n",
       "      <td>0.499540</td>\n",
       "      <td>5.0</td>\n",
       "      <td>0.000000</td>\n",
       "      <td>0.0</td>\n",
       "    </tr>\n",
       "    <tr>\n",
       "      <th>3</th>\n",
       "      <td>Amanda Farías</td>\n",
       "      <td>-0.025725</td>\n",
       "      <td>4.0</td>\n",
       "      <td>-0.187100</td>\n",
       "      <td>3.0</td>\n",
       "      <td>0.89775</td>\n",
       "      <td>2.0</td>\n",
       "      <td>0.000000</td>\n",
       "      <td>0.0</td>\n",
       "      <td>0.440400</td>\n",
       "      <td>...</td>\n",
       "      <td>0.0000</td>\n",
       "      <td>0.0</td>\n",
       "      <td>0.581190</td>\n",
       "      <td>10.0</td>\n",
       "      <td>0.345300</td>\n",
       "      <td>4.0</td>\n",
       "      <td>-0.138200</td>\n",
       "      <td>3.0</td>\n",
       "      <td>0.448433</td>\n",
       "      <td>3.0</td>\n",
       "    </tr>\n",
       "    <tr>\n",
       "      <th>4</th>\n",
       "      <td>Ari Kagan</td>\n",
       "      <td>0.156270</td>\n",
       "      <td>23.0</td>\n",
       "      <td>-0.410600</td>\n",
       "      <td>18.0</td>\n",
       "      <td>0.00000</td>\n",
       "      <td>0.0</td>\n",
       "      <td>0.000000</td>\n",
       "      <td>0.0</td>\n",
       "      <td>0.819800</td>\n",
       "      <td>...</td>\n",
       "      <td>0.0000</td>\n",
       "      <td>0.0</td>\n",
       "      <td>0.202000</td>\n",
       "      <td>2.0</td>\n",
       "      <td>0.694360</td>\n",
       "      <td>5.0</td>\n",
       "      <td>0.000000</td>\n",
       "      <td>0.0</td>\n",
       "      <td>0.600800</td>\n",
       "      <td>5.0</td>\n",
       "    </tr>\n",
       "  </tbody>\n",
       "</table>\n",
       "<p>5 rows × 27 columns</p>\n",
       "</div>"
      ],
      "text/plain": [
       "         twitter_name  cop_vader_sentiment  cop_count  crime_vader_sentiment  \\\n",
       "0   Adrienne E. Adams             0.151420       51.0              -0.363535   \n",
       "1        Alexa Avilés             0.117637       59.0              -0.270168   \n",
       "2  Althea V.  Stevens             0.098089        9.0              -0.358760   \n",
       "3       Amanda Farías            -0.025725        4.0              -0.187100   \n",
       "4           Ari Kagan             0.156270       23.0              -0.410600   \n",
       "\n",
       "   crime_count  bike_vader_sentiment  bike_count  landlord_vader_sentiment  \\\n",
       "0         26.0              -0.64860         1.0                  0.000000   \n",
       "1         22.0               0.21130         7.0                 -0.388533   \n",
       "2          5.0               0.00000         0.0                  0.000000   \n",
       "3          3.0               0.89775         2.0                  0.000000   \n",
       "4         18.0               0.00000         0.0                  0.000000   \n",
       "\n",
       "   landlord_count  tenant_vader_sentiment  ...  palestine_vader_sentiment  \\\n",
       "0             0.0                0.372567  ...                     0.0000   \n",
       "1             3.0                0.189750  ...                     0.8211   \n",
       "2             0.0                0.000000  ...                     0.0000   \n",
       "3             0.0                0.440400  ...                     0.0000   \n",
       "4             0.0                0.819800  ...                     0.0000   \n",
       "\n",
       "   palestine_count  lgbtq_vader_sentiment  lgbtq_count  \\\n",
       "0              0.0               0.073114          7.0   \n",
       "1              1.0               0.515422         37.0   \n",
       "2              0.0               0.696575          4.0   \n",
       "3              0.0               0.581190         10.0   \n",
       "4              0.0               0.202000          2.0   \n",
       "\n",
       "   vaccine_vader_sentiment  vaccine_count  black_vader_sentiment  black_count  \\\n",
       "0                 0.309704           26.0               0.169675         20.0   \n",
       "1                 0.152087           38.0               0.401573         15.0   \n",
       "2                 0.000000            0.0               0.499540          5.0   \n",
       "3                 0.345300            4.0              -0.138200          3.0   \n",
       "4                 0.694360            5.0               0.000000          0.0   \n",
       "\n",
       "   immigrant_vader_sentiment  immigrant_count  \n",
       "0                   0.474575              8.0  \n",
       "1                   0.309887             54.0  \n",
       "2                   0.000000              0.0  \n",
       "3                   0.448433              3.0  \n",
       "4                   0.600800              5.0  \n",
       "\n",
       "[5 rows x 27 columns]"
      ]
     },
     "execution_count": 176,
     "metadata": {},
     "output_type": "execute_result"
    }
   ],
   "source": [
    "all_members.head()"
   ]
  },
  {
   "cell_type": "code",
   "execution_count": 26,
   "metadata": {},
   "outputs": [
    {
     "data": {
      "text/html": [
       "<div>\n",
       "<style scoped>\n",
       "    .dataframe tbody tr th:only-of-type {\n",
       "        vertical-align: middle;\n",
       "    }\n",
       "\n",
       "    .dataframe tbody tr th {\n",
       "        vertical-align: top;\n",
       "    }\n",
       "\n",
       "    .dataframe thead th {\n",
       "        text-align: right;\n",
       "    }\n",
       "</style>\n",
       "<table border=\"1\" class=\"dataframe\">\n",
       "  <thead>\n",
       "    <tr style=\"text-align: right;\">\n",
       "      <th></th>\n",
       "      <th>kmode_cluster</th>\n",
       "      <th>pp_vader_mean</th>\n",
       "      <th>vader_mean</th>\n",
       "    </tr>\n",
       "  </thead>\n",
       "  <tbody>\n",
       "    <tr>\n",
       "      <th>0</th>\n",
       "      <td>0.0</td>\n",
       "      <td>-0.036439</td>\n",
       "      <td>0.091676</td>\n",
       "    </tr>\n",
       "    <tr>\n",
       "      <th>1</th>\n",
       "      <td>1.0</td>\n",
       "      <td>-0.108222</td>\n",
       "      <td>0.108157</td>\n",
       "    </tr>\n",
       "    <tr>\n",
       "      <th>2</th>\n",
       "      <td>2.0</td>\n",
       "      <td>-0.047427</td>\n",
       "      <td>0.162272</td>\n",
       "    </tr>\n",
       "    <tr>\n",
       "      <th>3</th>\n",
       "      <td>3.0</td>\n",
       "      <td>-0.043266</td>\n",
       "      <td>0.102254</td>\n",
       "    </tr>\n",
       "    <tr>\n",
       "      <th>4</th>\n",
       "      <td>4.0</td>\n",
       "      <td>0.052521</td>\n",
       "      <td>0.284464</td>\n",
       "    </tr>\n",
       "  </tbody>\n",
       "</table>\n",
       "</div>"
      ],
      "text/plain": [
       "   kmode_cluster  pp_vader_mean  vader_mean\n",
       "0            0.0      -0.036439    0.091676\n",
       "1            1.0      -0.108222    0.108157\n",
       "2            2.0      -0.047427    0.162272\n",
       "3            3.0      -0.043266    0.102254\n",
       "4            4.0       0.052521    0.284464"
      ]
     },
     "execution_count": 26,
     "metadata": {},
     "output_type": "execute_result"
    }
   ],
   "source": [
    "ct_centiment = cop_tweets.groupby('kmode_cluster')['pp_vader_sentiment'].mean().reset_index(name='pp_vader_mean')\n",
    "ct_centiment['vader_mean'] = cop_tweets.groupby('kmode_cluster')['vader_sentiment'].mean().values\n",
    "ct_centiment"
   ]
  },
  {
   "cell_type": "code",
   "execution_count": 69,
   "metadata": {},
   "outputs": [],
   "source": [
    "cop_tweets['processed_text'] = cop_tweets['text'].apply(lambda x: preprocess_text(x, all_stops_with_cop))"
   ]
  },
  {
   "cell_type": "code",
   "execution_count": 70,
   "metadata": {},
   "outputs": [],
   "source": [
    "cop_tweets_person_text = cop_tweets.groupby('twitter_name')['processed_text'].apply(lambda x: ' '.join(x)).reset_index()"
   ]
  },
  {
   "cell_type": "code",
   "execution_count": 73,
   "metadata": {},
   "outputs": [],
   "source": [
    "vectorizer = TfidfVectorizer()\n",
    "cop_tfidf_matrix = vectorizer.fit_transform(cop_tweets_person_text['processed_text'])"
   ]
  },
  {
   "cell_type": "code",
   "execution_count": null,
   "metadata": {},
   "outputs": [],
   "source": [
    "pca = PCA(n_components=3)\n",
    "cop_tfidf_pca = pca.fit_transform(cop_tfidf_matrix.toarray())\n",
    "cop_features = pd.DataFrame(cop_tfidf_pca, columns=['cop_pca1', 'cop_pca2', 'cop_pca3'])\n",
    "cop_features['twitter_name'] = cop_tweets_person_text['twitter_name']"
   ]
  },
  {
   "cell_type": "code",
   "execution_count": 86,
   "metadata": {},
   "outputs": [],
   "source": [
    "def tf_idf_pca_topic(df, topic_label):\n",
    "    df['processed_text'] = df['text'].apply(lambda x: preprocess_text(x, all_stopwords))\n",
    "    df_person_text = df.groupby('twitter_name')['processed_text'] \\\n",
    "                       .apply(lambda x: ' '.join(x)) \\\n",
    "                       .reset_index()\n",
    "    \n",
    "    vectorizer = TfidfVectorizer()\n",
    "    tfidf_matrix = vectorizer.fit_transform(df_person_text['processed_text'])\n",
    "    pca = PCA(n_components=3)\n",
    "    tfidf_pca = pca.fit_transform(tfidf_matrix.toarray())\n",
    "    features = pd.DataFrame(tfidf_pca, \n",
    "                            columns=[f'{topic_label}_pca1', \n",
    "                                     f'{topic_label}_pca2', \n",
    "                                     f'{topic_label}_pca3'])\n",
    "    features['twitter_name'] = df_person_text['twitter_name']\n",
    "    \n",
    "    return features\n"
   ]
  },
  {
   "cell_type": "code",
   "execution_count": 177,
   "metadata": {},
   "outputs": [],
   "source": [
    "all_topics = None\n",
    "for df,name in zip(for_tfidf,for_tfidf_names):\n",
    "    features = tf_idf_pca_topic(df,name)\n",
    "    if all_topics is None:\n",
    "        all_topics = features\n",
    "    else:\n",
    "        all_topics = all_topics.merge(features, on='twitter_name', how='outer')"
   ]
  },
  {
   "cell_type": "code",
   "execution_count": 178,
   "metadata": {},
   "outputs": [],
   "source": [
    "all_topics.fillna(0, inplace=True)"
   ]
  },
  {
   "cell_type": "code",
   "execution_count": 179,
   "metadata": {},
   "outputs": [],
   "source": [
    "all_members = all_members.merge(all_topics, on='twitter_name', how='outer')"
   ]
  },
  {
   "cell_type": "code",
   "execution_count": 180,
   "metadata": {},
   "outputs": [],
   "source": [
    "scaler = StandardScaler()\n",
    "features = all_members.drop(columns='twitter_name')\n",
    "scaled_features = scaler.fit_transform(features)"
   ]
  },
  {
   "cell_type": "code",
   "execution_count": 181,
   "metadata": {},
   "outputs": [
    {
     "name": "stderr",
     "output_type": "stream",
     "text": [
      "c:\\Users\\samtg\\AppData\\Local\\Programs\\Python\\Python311\\Lib\\site-packages\\sklearn\\cluster\\_kmeans.py:1412: FutureWarning: The default value of `n_init` will change from 10 to 'auto' in 1.4. Set the value of `n_init` explicitly to suppress the warning\n",
      "  super()._check_params_vs_input(X, default_n_init=10)\n",
      "c:\\Users\\samtg\\AppData\\Local\\Programs\\Python\\Python311\\Lib\\site-packages\\sklearn\\cluster\\_kmeans.py:1412: FutureWarning: The default value of `n_init` will change from 10 to 'auto' in 1.4. Set the value of `n_init` explicitly to suppress the warning\n",
      "  super()._check_params_vs_input(X, default_n_init=10)\n",
      "c:\\Users\\samtg\\AppData\\Local\\Programs\\Python\\Python311\\Lib\\site-packages\\sklearn\\cluster\\_kmeans.py:1412: FutureWarning: The default value of `n_init` will change from 10 to 'auto' in 1.4. Set the value of `n_init` explicitly to suppress the warning\n",
      "  super()._check_params_vs_input(X, default_n_init=10)\n",
      "c:\\Users\\samtg\\AppData\\Local\\Programs\\Python\\Python311\\Lib\\site-packages\\sklearn\\cluster\\_kmeans.py:1412: FutureWarning: The default value of `n_init` will change from 10 to 'auto' in 1.4. Set the value of `n_init` explicitly to suppress the warning\n",
      "  super()._check_params_vs_input(X, default_n_init=10)\n",
      "c:\\Users\\samtg\\AppData\\Local\\Programs\\Python\\Python311\\Lib\\site-packages\\sklearn\\cluster\\_kmeans.py:1412: FutureWarning: The default value of `n_init` will change from 10 to 'auto' in 1.4. Set the value of `n_init` explicitly to suppress the warning\n",
      "  super()._check_params_vs_input(X, default_n_init=10)\n",
      "c:\\Users\\samtg\\AppData\\Local\\Programs\\Python\\Python311\\Lib\\site-packages\\sklearn\\cluster\\_kmeans.py:1412: FutureWarning: The default value of `n_init` will change from 10 to 'auto' in 1.4. Set the value of `n_init` explicitly to suppress the warning\n",
      "  super()._check_params_vs_input(X, default_n_init=10)\n",
      "c:\\Users\\samtg\\AppData\\Local\\Programs\\Python\\Python311\\Lib\\site-packages\\sklearn\\cluster\\_kmeans.py:1412: FutureWarning: The default value of `n_init` will change from 10 to 'auto' in 1.4. Set the value of `n_init` explicitly to suppress the warning\n",
      "  super()._check_params_vs_input(X, default_n_init=10)\n",
      "c:\\Users\\samtg\\AppData\\Local\\Programs\\Python\\Python311\\Lib\\site-packages\\sklearn\\cluster\\_kmeans.py:1412: FutureWarning: The default value of `n_init` will change from 10 to 'auto' in 1.4. Set the value of `n_init` explicitly to suppress the warning\n",
      "  super()._check_params_vs_input(X, default_n_init=10)\n",
      "c:\\Users\\samtg\\AppData\\Local\\Programs\\Python\\Python311\\Lib\\site-packages\\sklearn\\cluster\\_kmeans.py:1412: FutureWarning: The default value of `n_init` will change from 10 to 'auto' in 1.4. Set the value of `n_init` explicitly to suppress the warning\n",
      "  super()._check_params_vs_input(X, default_n_init=10)\n",
      "c:\\Users\\samtg\\AppData\\Local\\Programs\\Python\\Python311\\Lib\\site-packages\\sklearn\\cluster\\_kmeans.py:1412: FutureWarning: The default value of `n_init` will change from 10 to 'auto' in 1.4. Set the value of `n_init` explicitly to suppress the warning\n",
      "  super()._check_params_vs_input(X, default_n_init=10)\n"
     ]
    },
    {
     "data": {
      "image/png": "[encoded data removed]",
      "text/plain": [
       "<Figure size 640x480 with 1 Axes>"
      ]
     },
     "metadata": {},
     "output_type": "display_data"
    }
   ],
   "source": [
    "# elbow method to find the optimal number of clusters\n",
    "inertia = []\n",
    "for i in range(1, 11):\n",
    "    kmeans = KMeans(n_clusters=i, random_state=42)\n",
    "    kmeans.fit(scaled_features)\n",
    "    inertia.append(kmeans.inertia_)\n",
    "plt.plot(range(1, 11), inertia)\n",
    "plt.title('Elbow Method')\n",
    "plt.xlabel('Number of clusters')\n",
    "plt.ylabel('Inertia')\n",
    "plt.show()"
   ]
  },
  {
   "cell_type": "code",
   "execution_count": 182,
   "metadata": {},
   "outputs": [
    {
     "name": "stderr",
     "output_type": "stream",
     "text": [
      "c:\\Users\\samtg\\AppData\\Local\\Programs\\Python\\Python311\\Lib\\site-packages\\sklearn\\cluster\\_kmeans.py:1412: FutureWarning: The default value of `n_init` will change from 10 to 'auto' in 1.4. Set the value of `n_init` explicitly to suppress the warning\n",
      "  super()._check_params_vs_input(X, default_n_init=10)\n"
     ]
    }
   ],
   "source": [
    "kmeans = KMeans(n_clusters=6, random_state=42)\n",
    "kmeans.fit(scaled_features)\n",
    "all_members['cluster'] = kmeans.labels_"
   ]
  },
  {
   "cell_type": "code",
   "execution_count": 185,
   "metadata": {},
   "outputs": [],
   "source": [
    "all_members[['twitter_name','cluster']].sort_values('cluster').to_csv('../../member_chapters/data/twitter_clusters_MARCH21.csv', index=False)"
   ]
  }
 ],
 "metadata": {
  "kernelspec": {
   "display_name": "Python 3",
   "language": "python",
   "name": "python3"
  },
  "language_info": {
   "codemirror_mode": {
    "name": "ipython",
    "version": 3
   },
   "file_extension": ".py",
   "mimetype": "text/x-python",
   "name": "python",
   "nbconvert_exporter": "python",
   "pygments_lexer": "ipython3",
   "version": "3.11.4"
  }
 },
 "nbformat": 4,
 "nbformat_minor": 2
}
