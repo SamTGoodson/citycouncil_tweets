{
 "cells": [
  {
   "cell_type": "code",
   "execution_count": 1,
   "metadata": {},
   "outputs": [],
   "source": [
    "import pandas as pd\n",
    "import numpy as np\n",
    "\n",
    "from fuzzywuzzy import process\n",
    "from fuzzywuzzy import fuzz\n",
    "\n",
    "import re\n",
    "from sklearn.feature_extraction.text import TfidfVectorizer\n",
    "from collections import Counter\n",
    "\n",
    "from nltk.corpus import stopwords\n",
    "import nltk\n"
   ]
  },
  {
   "cell_type": "code",
   "execution_count": 2,
   "metadata": {},
   "outputs": [],
   "source": [
    "from vaderSentiment.vaderSentiment import SentimentIntensityAnalyzer\n",
    "sia = SentimentIntensityAnalyzer()"
   ]
  },
  {
   "cell_type": "code",
   "execution_count": 3,
   "metadata": {},
   "outputs": [],
   "source": [
    "tweet_df = pd.read_csv('../data/tweet_df.csv')\n",
    "clusters = pd.read_csv('../../cc_election_cleaning/clusters_with_names_dec4.csv')"
   ]
  },
  {
   "cell_type": "code",
   "execution_count": 4,
   "metadata": {},
   "outputs": [],
   "source": [
    "name_list = tweet_df['full_name'].unique()"
   ]
  },
  {
   "cell_type": "code",
   "execution_count": 5,
   "metadata": {},
   "outputs": [],
   "source": [
    "def match_names(name, names_list):\n",
    "    match, score = process.extractOne(name, names_list, scorer=fuzz.token_sort_ratio)\n",
    "    return match if score >= 90 else name"
   ]
  },
  {
   "cell_type": "code",
   "execution_count": 25,
   "metadata": {},
   "outputs": [],
   "source": [
    "def preprocess_text(text, stopwords):\n",
    "    text = re.sub(r'http\\S+|www\\S+|@\\w+|#\\w+', '', text.lower())  \n",
    "    text = re.sub(r'[^\\w\\s]', '', text)  \n",
    "    tokens = [word for word in text.split() if word not in stopwords]  \n",
    "    return ' '.join(tokens)"
   ]
  },
  {
   "cell_type": "code",
   "execution_count": 7,
   "metadata": {},
   "outputs": [],
   "source": [
    "clusters['twitter_name'] = clusters['matched_name'].apply(lambda x: match_names(x, name_list.tolist()))"
   ]
  },
  {
   "cell_type": "code",
   "execution_count": 9,
   "metadata": {},
   "outputs": [],
   "source": [
    "fc = clusters[['twitter_name','kmode_cluster']]"
   ]
  },
  {
   "cell_type": "code",
   "execution_count": 20,
   "metadata": {},
   "outputs": [],
   "source": [
    "tweet_fc = tweet_df.merge(fc, left_on='full_name', right_on='twitter_name', how='left')"
   ]
  },
  {
   "cell_type": "code",
   "execution_count": 21,
   "metadata": {},
   "outputs": [],
   "source": [
    "tweet_fc = tweet_fc[['date','text','twitter_name','kmode_cluster']]"
   ]
  },
  {
   "cell_type": "code",
   "execution_count": 22,
   "metadata": {},
   "outputs": [
    {
     "name": "stderr",
     "output_type": "stream",
     "text": [
      "C:\\Users\\samtg\\AppData\\Local\\Temp\\ipykernel_12196\\3301695755.py:2: UserWarning: Converting to PeriodArray/Index representation will drop timezone information.\n",
      "  tweet_fc['month'] = tweet_fc['date'].dt.to_period('M')\n"
     ]
    }
   ],
   "source": [
    "tweet_fc['date'] = pd.to_datetime(tweet_fc['date'])\n",
    "tweet_fc['month'] = tweet_fc['date'].dt.to_period('M')"
   ]
  },
  {
   "cell_type": "code",
   "execution_count": 24,
   "metadata": {},
   "outputs": [],
   "source": [
    "tweet_fc.dropna(subset=['twitter_name'], inplace=True)"
   ]
  },
  {
   "cell_type": "markdown",
   "metadata": {},
   "source": [
    "tf_idf"
   ]
  },
  {
   "cell_type": "code",
   "execution_count": 26,
   "metadata": {},
   "outputs": [],
   "source": [
    "df = tweet_fc.copy()"
   ]
  },
  {
   "cell_type": "code",
   "execution_count": 27,
   "metadata": {},
   "outputs": [],
   "source": [
    "df = df[df['date'] < '2021-07-01']"
   ]
  },
  {
   "cell_type": "code",
   "execution_count": 58,
   "metadata": {},
   "outputs": [
    {
     "name": "stderr",
     "output_type": "stream",
     "text": [
      "[nltk_data] Downloading package stopwords to\n",
      "[nltk_data]     C:\\Users\\samtg\\AppData\\Roaming\\nltk_data...\n",
      "[nltk_data]   Package stopwords is already up-to-date!\n"
     ]
    },
    {
     "data": {
      "text/plain": [
       "True"
      ]
     },
     "execution_count": 58,
     "metadata": {},
     "output_type": "execute_result"
    }
   ],
   "source": [
    "nltk.download('stopwords')"
   ]
  },
  {
   "cell_type": "code",
   "execution_count": 59,
   "metadata": {},
   "outputs": [],
   "source": [
    "standard_stopwords = set(stopwords.words('english'))\n",
    "custom_stopwords = {'us','day','amp','thank','new','today','us','im','get','council','district','need','great',\n",
    "                    'work','nyc','city','join','support','office','proud','time','see','public','people','happy',\n",
    "                    'make','help','many','thanks','first','must','year','one','communities','together','last',\n",
    "                    'like','please','much','york','yorkers','every','de','colleagues','event','forward','love''members',\n",
    "                     'bronx','brooklyn','manhattan','queens','staten','island','community','important','team','week',\n",
    "                      'love','continue','joined','free','tomorrow', 'years','know', 'vote','voter','voters', 'lets','back','congratulations',\n",
    "                       'campaign','endorsement', 'neighbors','honored','keep','also','good','right','sign',\n",
    "                        'local', 'look', 'still','working', 'look', 'looking', 'congressman', '15','yes','go',\n",
    "                         'south','hunts','point','1','everyone','come','stand','way','cant','well','open','would',\n",
    "                         'always','dont','better','take','workers','vaccine','elmhurst','holden','sure'} \n",
    "all_stopwords = standard_stopwords.union(custom_stopwords)"
   ]
  },
  {
   "cell_type": "code",
   "execution_count": 48,
   "metadata": {},
   "outputs": [],
   "source": [
    "df['processed_text'] = df['text'].apply(lambda x: preprocess_text(x, all_stopwords))"
   ]
  },
  {
   "cell_type": "code",
   "execution_count": 49,
   "metadata": {},
   "outputs": [
    {
     "name": "stdout",
     "output_type": "stream",
     "text": [
      "[('fight', 903), ('justice', 703), ('housing', 545), ('pandemic', 543), ('health', 499), ('women', 480), ('families', 476), ('safe', 472), ('park', 462), ('black', 442), ('food', 441), ('next', 432), ('family', 417), ('fighting', 416), ('excited', 412), ('want', 399), ('state', 398), ('may', 396), ('voting', 392), ('call', 390)]\n"
     ]
    }
   ],
   "source": [
    "all_words = ' '.join(df['processed_text']).split()\n",
    "word_freq = Counter(all_words)\n",
    "print(word_freq.most_common(20))"
   ]
  },
  {
   "cell_type": "code",
   "execution_count": 50,
   "metadata": {},
   "outputs": [],
   "source": [
    "cluster_texts = df.groupby('kmode_cluster')['processed_text'].apply(lambda x: ' '.join(x)).reset_index()"
   ]
  },
  {
   "cell_type": "code",
   "execution_count": 51,
   "metadata": {},
   "outputs": [],
   "source": [
    "tfidf_vectorizer = TfidfVectorizer()"
   ]
  },
  {
   "cell_type": "code",
   "execution_count": 52,
   "metadata": {},
   "outputs": [],
   "source": [
    "tfidf_matrix = tfidf_vectorizer.fit_transform(cluster_texts['processed_text'])\n",
    "tfidf_df = pd.DataFrame(tfidf_matrix.toarray(), columns=tfidf_vectorizer.get_feature_names_out(), index=cluster_texts['kmode_cluster'])"
   ]
  },
  {
   "cell_type": "code",
   "execution_count": 53,
   "metadata": {},
   "outputs": [],
   "source": [
    "top_n = 10 \n",
    "characteristic_words = {}\n",
    "for cluster in tfidf_df.index:\n",
    "    sorted_words = tfidf_df.loc[cluster].sort_values(ascending=False).head(top_n)\n",
    "    characteristic_words[cluster] = sorted_words.index.tolist()"
   ]
  },
  {
   "cell_type": "code",
   "execution_count": 54,
   "metadata": {},
   "outputs": [],
   "source": [
    "characteristic_words_df = pd.DataFrame(characteristic_words).T"
   ]
  },
  {
   "cell_type": "code",
   "execution_count": 55,
   "metadata": {},
   "outputs": [
    {
     "data": {
      "text/html": [
       "<div>\n",
       "<style scoped>\n",
       "    .dataframe tbody tr th:only-of-type {\n",
       "        vertical-align: middle;\n",
       "    }\n",
       "\n",
       "    .dataframe tbody tr th {\n",
       "        vertical-align: top;\n",
       "    }\n",
       "\n",
       "    .dataframe thead th {\n",
       "        text-align: right;\n",
       "    }\n",
       "</style>\n",
       "<table border=\"1\" class=\"dataframe\">\n",
       "  <thead>\n",
       "    <tr style=\"text-align: right;\">\n",
       "      <th></th>\n",
       "      <th>0</th>\n",
       "      <th>1</th>\n",
       "      <th>2</th>\n",
       "      <th>3</th>\n",
       "      <th>4</th>\n",
       "      <th>5</th>\n",
       "      <th>6</th>\n",
       "      <th>7</th>\n",
       "      <th>8</th>\n",
       "      <th>9</th>\n",
       "    </tr>\n",
       "  </thead>\n",
       "  <tbody>\n",
       "    <tr>\n",
       "      <th>0.0</th>\n",
       "      <td>fight</td>\n",
       "      <td>justice</td>\n",
       "      <td>black</td>\n",
       "      <td>housing</td>\n",
       "      <td>health</td>\n",
       "      <td>pandemic</td>\n",
       "      <td>women</td>\n",
       "      <td>covid19</td>\n",
       "      <td>la</td>\n",
       "      <td>safe</td>\n",
       "    </tr>\n",
       "    <tr>\n",
       "      <th>1.0</th>\n",
       "      <td>cuomo</td>\n",
       "      <td>state</td>\n",
       "      <td>park</td>\n",
       "      <td>said</td>\n",
       "      <td>pandemic</td>\n",
       "      <td>governor</td>\n",
       "      <td>life</td>\n",
       "      <td>even</td>\n",
       "      <td>hate</td>\n",
       "      <td>thats</td>\n",
       "    </tr>\n",
       "    <tr>\n",
       "      <th>2.0</th>\n",
       "      <td>may</td>\n",
       "      <td>early</td>\n",
       "      <td>family</td>\n",
       "      <td>pandemic</td>\n",
       "      <td>voting</td>\n",
       "      <td>got</td>\n",
       "      <td>never</td>\n",
       "      <td>families</td>\n",
       "      <td>fight</td>\n",
       "      <td>hate</td>\n",
       "    </tr>\n",
       "    <tr>\n",
       "      <th>3.0</th>\n",
       "      <td>fight</td>\n",
       "      <td>justice</td>\n",
       "      <td>housing</td>\n",
       "      <td>park</td>\n",
       "      <td>movement</td>\n",
       "      <td>fighting</td>\n",
       "      <td>climate</td>\n",
       "      <td>schools</td>\n",
       "      <td>women</td>\n",
       "      <td>care</td>\n",
       "    </tr>\n",
       "    <tr>\n",
       "      <th>4.0</th>\n",
       "      <td>corona</td>\n",
       "      <td>food</td>\n",
       "      <td>families</td>\n",
       "      <td>residents</td>\n",
       "      <td>fight</td>\n",
       "      <td>pandemic</td>\n",
       "      <td>volunteers</td>\n",
       "      <td>vaccinated</td>\n",
       "      <td>testing</td>\n",
       "      <td>best</td>\n",
       "    </tr>\n",
       "  </tbody>\n",
       "</table>\n",
       "</div>"
      ],
      "text/plain": [
       "          0        1         2          3         4         5           6  \\\n",
       "0.0   fight  justice     black    housing    health  pandemic       women   \n",
       "1.0   cuomo    state      park       said  pandemic  governor        life   \n",
       "2.0     may    early    family   pandemic    voting       got       never   \n",
       "3.0   fight  justice   housing       park  movement  fighting     climate   \n",
       "4.0  corona     food  families  residents     fight  pandemic  volunteers   \n",
       "\n",
       "              7        8      9  \n",
       "0.0     covid19       la   safe  \n",
       "1.0        even     hate  thats  \n",
       "2.0    families    fight   hate  \n",
       "3.0     schools    women   care  \n",
       "4.0  vaccinated  testing   best  "
      ]
     },
     "execution_count": 55,
     "metadata": {},
     "output_type": "execute_result"
    }
   ],
   "source": [
    "characteristic_words_df"
   ]
  },
  {
   "cell_type": "markdown",
   "metadata": {},
   "source": [
    "Not telling us much, lets look at specific categories and then sentiments "
   ]
  },
  {
   "cell_type": "code",
   "execution_count": null,
   "metadata": {},
   "outputs": [],
   "source": [
    "cop_words = ['cop', 'police', 'nypd','policing','public safety','plainclothes']\n",
    "transit_words = ['bus','bus rider','train','subway','mta','transit']\n",
    "bike_words = ['bike','bike lane','protected bike lane','cycle','cyclist']\n",
    "housing_words = ['rent','housing']\n",
    "educ_words = ['education','teachers','schools','students']\n",
    "unions = ['dc37','1199seiou']"
   ]
  },
  {
   "cell_type": "code",
   "execution_count": 57,
   "metadata": {},
   "outputs": [],
   "source": [
    "cop_tweets = tweet_fc[tweet_fc['text'].str.contains('|'.join(cop_words), case=False)]"
   ]
  },
  {
   "cell_type": "code",
   "execution_count": 108,
   "metadata": {},
   "outputs": [],
   "source": [
    "cop_tweets = cop_tweets[cop_tweets['date'] < '2021-07-01']"
   ]
  },
  {
   "cell_type": "code",
   "execution_count": 109,
   "metadata": {},
   "outputs": [],
   "source": [
    "cop_stops = ['nypd','police','cop','cops','policing','public safety','safety','officer','coney','safe','officers','violence',\n",
    "             'ty','12']\n",
    "all_stops_with_cop = all_stopwords.union(cop_stops)"
   ]
  },
  {
   "cell_type": "code",
   "execution_count": 110,
   "metadata": {},
   "outputs": [],
   "source": [
    "cop_tweets['processed_text'] = cop_tweets['text'].apply(lambda x: preprocess_text(x, all_stops_with_cop))"
   ]
  },
  {
   "cell_type": "code",
   "execution_count": 111,
   "metadata": {},
   "outputs": [],
   "source": [
    "cluster_texts = cop_tweets.groupby('kmode_cluster')['processed_text'].apply(lambda x: ' '.join(x)).reset_index()"
   ]
  },
  {
   "cell_type": "code",
   "execution_count": 112,
   "metadata": {},
   "outputs": [],
   "source": [
    "tfidf_vectorizer = TfidfVectorizer()\n",
    "tfidf_matrix = tfidf_vectorizer.fit_transform(cluster_texts['processed_text'])\n",
    "tfidf_df = pd.DataFrame(tfidf_matrix.toarray(), columns=tfidf_vectorizer.get_feature_names_out(), index=cluster_texts['kmode_cluster'])"
   ]
  },
  {
   "cell_type": "code",
   "execution_count": 113,
   "metadata": {},
   "outputs": [],
   "source": [
    "top_n = 10 \n",
    "characteristic_words = {}\n",
    "for cluster in tfidf_df.index:\n",
    "    sorted_words = tfidf_df.loc[cluster].sort_values(ascending=False).head(top_n)\n",
    "    characteristic_words[cluster] = sorted_words.index.tolist()\n",
    "\n",
    "characteristic_words_df = pd.DataFrame(characteristic_words).T"
   ]
  },
  {
   "cell_type": "code",
   "execution_count": 114,
   "metadata": {},
   "outputs": [
    {
     "data": {
      "text/html": [
       "<div>\n",
       "<style scoped>\n",
       "    .dataframe tbody tr th:only-of-type {\n",
       "        vertical-align: middle;\n",
       "    }\n",
       "\n",
       "    .dataframe tbody tr th {\n",
       "        vertical-align: top;\n",
       "    }\n",
       "\n",
       "    .dataframe thead th {\n",
       "        text-align: right;\n",
       "    }\n",
       "</style>\n",
       "<table border=\"1\" class=\"dataframe\">\n",
       "  <thead>\n",
       "    <tr style=\"text-align: right;\">\n",
       "      <th></th>\n",
       "      <th>0</th>\n",
       "      <th>1</th>\n",
       "      <th>2</th>\n",
       "      <th>3</th>\n",
       "      <th>4</th>\n",
       "      <th>5</th>\n",
       "      <th>6</th>\n",
       "      <th>7</th>\n",
       "      <th>8</th>\n",
       "      <th>9</th>\n",
       "    </tr>\n",
       "  </thead>\n",
       "  <tbody>\n",
       "    <tr>\n",
       "      <th>0.0</th>\n",
       "      <td>black</td>\n",
       "      <td>justice</td>\n",
       "      <td>housing</td>\n",
       "      <td>ccrb</td>\n",
       "      <td>hearing</td>\n",
       "      <td>committee</td>\n",
       "      <td>development</td>\n",
       "      <td>reform</td>\n",
       "      <td>invest</td>\n",
       "      <td>george</td>\n",
       "    </tr>\n",
       "    <tr>\n",
       "      <th>1.0</th>\n",
       "      <td>criminals</td>\n",
       "      <td>issues</td>\n",
       "      <td>via</td>\n",
       "      <td>neighborhoods</td>\n",
       "      <td>ncos</td>\n",
       "      <td>hate</td>\n",
       "      <td>another</td>\n",
       "      <td>maspeth</td>\n",
       "      <td>veterans</td>\n",
       "      <td>antipolice</td>\n",
       "    </tr>\n",
       "    <tr>\n",
       "      <th>2.0</th>\n",
       "      <td>hate</td>\n",
       "      <td>young</td>\n",
       "      <td>happen</td>\n",
       "      <td>guy</td>\n",
       "      <td>feel</td>\n",
       "      <td>floyd</td>\n",
       "      <td>news</td>\n",
       "      <td>family</td>\n",
       "      <td>multilingual</td>\n",
       "      <td>responsible</td>\n",
       "    </tr>\n",
       "    <tr>\n",
       "      <th>3.0</th>\n",
       "      <td>black</td>\n",
       "      <td>budget</td>\n",
       "      <td>health</td>\n",
       "      <td>invest</td>\n",
       "      <td>brown</td>\n",
       "      <td>services</td>\n",
       "      <td>students</td>\n",
       "      <td>housing</td>\n",
       "      <td>justice</td>\n",
       "      <td>schools</td>\n",
       "    </tr>\n",
       "    <tr>\n",
       "      <th>4.0</th>\n",
       "      <td>civic</td>\n",
       "      <td>hate</td>\n",
       "      <td>attacks</td>\n",
       "      <td>residents</td>\n",
       "      <td>action</td>\n",
       "      <td>prepared</td>\n",
       "      <td>fresh</td>\n",
       "      <td>association</td>\n",
       "      <td>food</td>\n",
       "      <td>anyone</td>\n",
       "    </tr>\n",
       "  </tbody>\n",
       "</table>\n",
       "</div>"
      ],
      "text/plain": [
       "             0        1        2              3        4          5  \\\n",
       "0.0      black  justice  housing           ccrb  hearing  committee   \n",
       "1.0  criminals   issues      via  neighborhoods     ncos       hate   \n",
       "2.0       hate    young   happen            guy     feel      floyd   \n",
       "3.0      black   budget   health         invest    brown   services   \n",
       "4.0      civic     hate  attacks      residents   action   prepared   \n",
       "\n",
       "               6            7             8            9  \n",
       "0.0  development       reform        invest       george  \n",
       "1.0      another      maspeth      veterans   antipolice  \n",
       "2.0         news       family  multilingual  responsible  \n",
       "3.0     students      housing       justice      schools  \n",
       "4.0        fresh  association          food       anyone  "
      ]
     },
     "execution_count": 114,
     "metadata": {},
     "output_type": "execute_result"
    }
   ],
   "source": [
    "characteristic_words_df"
   ]
  },
  {
   "cell_type": "markdown",
   "metadata": {},
   "source": [
    "Lets pull out some example tweets"
   ]
  },
  {
   "cell_type": "code",
   "execution_count": 102,
   "metadata": {},
   "outputs": [],
   "source": [
    "pd.set_option('display.max_colwidth', None)"
   ]
  },
  {
   "cell_type": "code",
   "execution_count": 115,
   "metadata": {},
   "outputs": [],
   "source": [
    "cluster_three = cop_tweets[cop_tweets['kmode_cluster'] == 3]"
   ]
  },
  {
   "cell_type": "code",
   "execution_count": 118,
   "metadata": {},
   "outputs": [],
   "source": [
    "search_words = ['housing']\n",
    "found_tweets = cluster_three[cluster_three['text'].str.contains('|'.join(search_words), case=False)]"
   ]
  },
  {
   "cell_type": "code",
   "execution_count": 119,
   "metadata": {},
   "outputs": [
    {
     "data": {
      "text/html": [
       "<div>\n",
       "<style scoped>\n",
       "    .dataframe tbody tr th:only-of-type {\n",
       "        vertical-align: middle;\n",
       "    }\n",
       "\n",
       "    .dataframe tbody tr th {\n",
       "        vertical-align: top;\n",
       "    }\n",
       "\n",
       "    .dataframe thead th {\n",
       "        text-align: right;\n",
       "    }\n",
       "</style>\n",
       "<table border=\"1\" class=\"dataframe\">\n",
       "  <thead>\n",
       "    <tr style=\"text-align: right;\">\n",
       "      <th></th>\n",
       "      <th>text</th>\n",
       "      <th>processed_text</th>\n",
       "      <th>twitter_name</th>\n",
       "    </tr>\n",
       "  </thead>\n",
       "  <tbody>\n",
       "    <tr>\n",
       "      <th>86514</th>\n",
       "      <td>5/5 We must respond to this tragedy by rejecting more unnecessary violence. \\n\\nThat means funding essential services, like housing and healthcare, and fighting for a people's budget — an economy that works for everyone, not just the wealthy, not just the cops.</td>\n",
       "      <td>55 respond tragedy rejecting unnecessary means funding essential services housing healthcare fighting peoples budget economy works wealthy</td>\n",
       "      <td>Alexa Avilés</td>\n",
       "    </tr>\n",
       "    <tr>\n",
       "      <th>121907</th>\n",
       "      <td>I'm proud to be a @BoldProgressive &amp;amp; receive the Progressive Change Campaign Committee's co-endorsement!\\n\\nI'll fight at the forefront of progressive change in the City Council, from divesting from NYPD to guaranteeing housing and healthcare ✊🏽\\n\\nJOIN US: https://t.co/gb0gFc9znx https://t.co/heYP6biAHA</td>\n",
       "      <td>receive progressive change committees coendorsement ill fight forefront progressive change divesting guaranteeing housing healthcare</td>\n",
       "      <td>Shahana K. Hanif</td>\n",
       "    </tr>\n",
       "    <tr>\n",
       "      <th>108549</th>\n",
       "      <td>Yes, we are *all* concerned with public safety. \\n\\nThe peddled falsehood: Majority see more policing as the solution. \\n\\nThe truth: Majority believes community violence intervention programs, drug &amp;amp; mental health programs, &amp;amp; housing are more effective.\\n\\nhttps://t.co/RqEGtWu67x</td>\n",
       "      <td>concerned peddled falsehood majority solution truth majority believes intervention programs drug mental health programs housing effective</td>\n",
       "      <td>Tiffany Cabán</td>\n",
       "    </tr>\n",
       "    <tr>\n",
       "      <th>105646</th>\n",
       "      <td>We must:\\n✅ Win a #GreenNewDeal\\n✅ Fully fund &amp;amp; integrate our public schools\\n✅ #DefundNYPD\\n✅ Guarantee healthcare and housing for all\\n✅ Protect undocumented New Yorkers\\n✅ and so much more.\\n\\nI'm committed to all of these fights. A NYC that centers dignity and care is possible.</td>\n",
       "      <td>win fully fund integrate schools guarantee healthcare housing protect undocumented committed fights centers dignity care possible</td>\n",
       "      <td>Shahana K. Hanif</td>\n",
       "    </tr>\n",
       "    <tr>\n",
       "      <th>121828</th>\n",
       "      <td>True community safety doesn’t come from the NYPD, which targets, brutalizes, and murders Black and brown New Yorkers. It comes from investments in communities — affordable housing, mental health care, youth programming, accessible open spaces, &amp;amp; food security. (2/7)</td>\n",
       "      <td>true doesnt targets brutalizes murders black brown comes investments affordable housing mental health care youth programming accessible spaces food security 27</td>\n",
       "      <td>Shahana K. Hanif</td>\n",
       "    </tr>\n",
       "    <tr>\n",
       "      <th>86565</th>\n",
       "      <td>We know that Black communities are over-policed but lack vital services, like quality healthcare, housing and education.\\n\\nLet this year's #BlackLivesMatter protests be a reminder: Budgets show our priorities. It's time New York City is proud of ours. #DefundNYPD.\\n\\n5/5</td>\n",
       "      <td>black overpoliced lack vital services quality healthcare housing education let protests reminder budgets show priorities 55</td>\n",
       "      <td>Alexa Avilés</td>\n",
       "    </tr>\n",
       "    <tr>\n",
       "      <th>66852</th>\n",
       "      <td>“Conviction records are lasting vestige of War on Drugs &amp;amp; broken windows policing.”\\n\\n750K NYers have records, which limit govt benefits &amp;amp; is major source of discrimination in housing &amp;amp; employment.\\n\\nGreat op-Ed by @EricaMBond on need to clear old records.\\n\\nhttps://t.co/lgWPy0Jbf5</td>\n",
       "      <td>conviction records lasting vestige war drugs broken windows 750k nyers records limit govt benefits major source discrimination housing employment oped clear old records</td>\n",
       "      <td>Lincoln Restler</td>\n",
       "    </tr>\n",
       "    <tr>\n",
       "      <th>104093</th>\n",
       "      <td>Thank you @CouragetoChange for endorsing our campaign for City Council! Together, we can reimagine our approaches to environmental justice, workers’ rights, and public safety and housing and bring transformative change to Brooklyn and our City.\\n\\nJoin us: https://t.co/6iKaTf1oRr https://t.co/z5Zv3lNlnA</td>\n",
       "      <td>endorsing reimagine approaches environmental justice rights housing bring transformative change</td>\n",
       "      <td>Lincoln Restler</td>\n",
       "    </tr>\n",
       "    <tr>\n",
       "      <th>105538</th>\n",
       "      <td>I'd be honored to be your #1 choice for City Council so we can:\\n✅ Divest from NYPD and invest in community safety\\n✅ Win a #GreenNewDeal\\n✅ Guarantee housing and healthcare for all\\n✅ Create a feminist future\\n\\nPOLLS ARE OPEN TILL 9PM, find your poll site: https://t.co/VBRsyQCLA7 https://t.co/oNER2IVJ9z</td>\n",
       "      <td>id choice divest invest win guarantee housing healthcare create feminist future polls till 9pm find poll site</td>\n",
       "      <td>Shahana K. Hanif</td>\n",
       "    </tr>\n",
       "    <tr>\n",
       "      <th>112955</th>\n",
       "      <td>As a Council Member, I will work to get people out of shelters and into permanent housing, end HIV/AIDS stigma, fund overdose prevention programs, win a #HomesGuarantee and a #CCNewDeal, and #DefundNYPD.\\n\\n@VOCALNewYork makes a caring and compassionate City possible.</td>\n",
       "      <td>member shelters permanent housing end hivaids stigma fund overdose prevention programs win makes caring compassionate possible</td>\n",
       "      <td>Shahana K. Hanif</td>\n",
       "    </tr>\n",
       "  </tbody>\n",
       "</table>\n",
       "</div>"
      ],
      "text/plain": [
       "                                                                                                                                                                                                                                                                                                                         text  \\\n",
       "86514                                                   5/5 We must respond to this tragedy by rejecting more unnecessary violence. \\n\\nThat means funding essential services, like housing and healthcare, and fighting for a people's budget — an economy that works for everyone, not just the wealthy, not just the cops.   \n",
       "121907  I'm proud to be a @BoldProgressive &amp; receive the Progressive Change Campaign Committee's co-endorsement!\\n\\nI'll fight at the forefront of progressive change in the City Council, from divesting from NYPD to guaranteeing housing and healthcare ✊🏽\\n\\nJOIN US: https://t.co/gb0gFc9znx https://t.co/heYP6biAHA   \n",
       "108549                      Yes, we are *all* concerned with public safety. \\n\\nThe peddled falsehood: Majority see more policing as the solution. \\n\\nThe truth: Majority believes community violence intervention programs, drug &amp; mental health programs, &amp; housing are more effective.\\n\\nhttps://t.co/RqEGtWu67x   \n",
       "105646                         We must:\\n✅ Win a #GreenNewDeal\\n✅ Fully fund &amp; integrate our public schools\\n✅ #DefundNYPD\\n✅ Guarantee healthcare and housing for all\\n✅ Protect undocumented New Yorkers\\n✅ and so much more.\\n\\nI'm committed to all of these fights. A NYC that centers dignity and care is possible.   \n",
       "121828                                         True community safety doesn’t come from the NYPD, which targets, brutalizes, and murders Black and brown New Yorkers. It comes from investments in communities — affordable housing, mental health care, youth programming, accessible open spaces, &amp; food security. (2/7)   \n",
       "86565                                        We know that Black communities are over-policed but lack vital services, like quality healthcare, housing and education.\\n\\nLet this year's #BlackLivesMatter protests be a reminder: Budgets show our priorities. It's time New York City is proud of ours. #DefundNYPD.\\n\\n5/5   \n",
       "66852               “Conviction records are lasting vestige of War on Drugs &amp; broken windows policing.”\\n\\n750K NYers have records, which limit govt benefits &amp; is major source of discrimination in housing &amp; employment.\\n\\nGreat op-Ed by @EricaMBond on need to clear old records.\\n\\nhttps://t.co/lgWPy0Jbf5   \n",
       "104093       Thank you @CouragetoChange for endorsing our campaign for City Council! Together, we can reimagine our approaches to environmental justice, workers’ rights, and public safety and housing and bring transformative change to Brooklyn and our City.\\n\\nJoin us: https://t.co/6iKaTf1oRr https://t.co/z5Zv3lNlnA   \n",
       "105538     I'd be honored to be your #1 choice for City Council so we can:\\n✅ Divest from NYPD and invest in community safety\\n✅ Win a #GreenNewDeal\\n✅ Guarantee housing and healthcare for all\\n✅ Create a feminist future\\n\\nPOLLS ARE OPEN TILL 9PM, find your poll site: https://t.co/VBRsyQCLA7 https://t.co/oNER2IVJ9z   \n",
       "112955                                           As a Council Member, I will work to get people out of shelters and into permanent housing, end HIV/AIDS stigma, fund overdose prevention programs, win a #HomesGuarantee and a #CCNewDeal, and #DefundNYPD.\\n\\n@VOCALNewYork makes a caring and compassionate City possible.   \n",
       "\n",
       "                                                                                                                                                                  processed_text  \\\n",
       "86514                                 55 respond tragedy rejecting unnecessary means funding essential services housing healthcare fighting peoples budget economy works wealthy   \n",
       "121907                                      receive progressive change committees coendorsement ill fight forefront progressive change divesting guaranteeing housing healthcare   \n",
       "108549                                 concerned peddled falsehood majority solution truth majority believes intervention programs drug mental health programs housing effective   \n",
       "105646                                         win fully fund integrate schools guarantee healthcare housing protect undocumented committed fights centers dignity care possible   \n",
       "121828           true doesnt targets brutalizes murders black brown comes investments affordable housing mental health care youth programming accessible spaces food security 27   \n",
       "86565                                                black overpoliced lack vital services quality healthcare housing education let protests reminder budgets show priorities 55   \n",
       "66852   conviction records lasting vestige war drugs broken windows 750k nyers records limit govt benefits major source discrimination housing employment oped clear old records   \n",
       "104093                                                                           endorsing reimagine approaches environmental justice rights housing bring transformative change   \n",
       "105538                                                             id choice divest invest win guarantee housing healthcare create feminist future polls till 9pm find poll site   \n",
       "112955                                            member shelters permanent housing end hivaids stigma fund overdose prevention programs win makes caring compassionate possible   \n",
       "\n",
       "            twitter_name  \n",
       "86514       Alexa Avilés  \n",
       "121907  Shahana K. Hanif  \n",
       "108549     Tiffany Cabán  \n",
       "105646  Shahana K. Hanif  \n",
       "121828  Shahana K. Hanif  \n",
       "86565       Alexa Avilés  \n",
       "66852    Lincoln Restler  \n",
       "104093   Lincoln Restler  \n",
       "105538  Shahana K. Hanif  \n",
       "112955  Shahana K. Hanif  "
      ]
     },
     "execution_count": 119,
     "metadata": {},
     "output_type": "execute_result"
    }
   ],
   "source": [
    "found_tweets[['text','processed_text','twitter_name']].sample(10)"
   ]
  },
  {
   "cell_type": "markdown",
   "metadata": {},
   "source": [
    "Cop Sentiment "
   ]
  },
  {
   "cell_type": "code",
   "execution_count": 120,
   "metadata": {},
   "outputs": [],
   "source": [
    "cop_tweets['vader_sentiment'] = cop_tweets['text'].apply(lambda x: sia.polarity_scores(x)['compound'])"
   ]
  },
  {
   "cell_type": "code",
   "execution_count": 121,
   "metadata": {},
   "outputs": [],
   "source": [
    "cop_tweets['pp_vader_sentiment'] = cop_tweets['processed_text'].apply(lambda x: sia.polarity_scores(x)['compound'])"
   ]
  },
  {
   "cell_type": "code",
   "execution_count": 122,
   "metadata": {},
   "outputs": [
    {
     "data": {
      "text/html": [
       "<div>\n",
       "<style scoped>\n",
       "    .dataframe tbody tr th:only-of-type {\n",
       "        vertical-align: middle;\n",
       "    }\n",
       "\n",
       "    .dataframe tbody tr th {\n",
       "        vertical-align: top;\n",
       "    }\n",
       "\n",
       "    .dataframe thead th {\n",
       "        text-align: right;\n",
       "    }\n",
       "</style>\n",
       "<table border=\"1\" class=\"dataframe\">\n",
       "  <thead>\n",
       "    <tr style=\"text-align: right;\">\n",
       "      <th></th>\n",
       "      <th>kmode_cluster</th>\n",
       "      <th>pp_vader_mean</th>\n",
       "      <th>vader_mean</th>\n",
       "    </tr>\n",
       "  </thead>\n",
       "  <tbody>\n",
       "    <tr>\n",
       "      <th>0</th>\n",
       "      <td>0.0</td>\n",
       "      <td>-0.036439</td>\n",
       "      <td>0.091676</td>\n",
       "    </tr>\n",
       "    <tr>\n",
       "      <th>1</th>\n",
       "      <td>1.0</td>\n",
       "      <td>-0.108222</td>\n",
       "      <td>0.108157</td>\n",
       "    </tr>\n",
       "    <tr>\n",
       "      <th>2</th>\n",
       "      <td>2.0</td>\n",
       "      <td>-0.047427</td>\n",
       "      <td>0.162272</td>\n",
       "    </tr>\n",
       "    <tr>\n",
       "      <th>3</th>\n",
       "      <td>3.0</td>\n",
       "      <td>-0.043922</td>\n",
       "      <td>0.102156</td>\n",
       "    </tr>\n",
       "    <tr>\n",
       "      <th>4</th>\n",
       "      <td>4.0</td>\n",
       "      <td>0.052521</td>\n",
       "      <td>0.284464</td>\n",
       "    </tr>\n",
       "  </tbody>\n",
       "</table>\n",
       "</div>"
      ],
      "text/plain": [
       "   kmode_cluster  pp_vader_mean  vader_mean\n",
       "0            0.0      -0.036439    0.091676\n",
       "1            1.0      -0.108222    0.108157\n",
       "2            2.0      -0.047427    0.162272\n",
       "3            3.0      -0.043922    0.102156\n",
       "4            4.0       0.052521    0.284464"
      ]
     },
     "execution_count": 122,
     "metadata": {},
     "output_type": "execute_result"
    }
   ],
   "source": [
    "ct_centiment = cop_tweets.groupby('kmode_cluster')['pp_vader_sentiment'].mean().reset_index(name='pp_vader_mean')\n",
    "ct_centiment['vader_mean'] = cop_tweets.groupby('kmode_cluster')['vader_sentiment'].mean().values\n",
    "ct_centiment"
   ]
  }
 ],
 "metadata": {
  "kernelspec": {
   "display_name": "Python 3",
   "language": "python",
   "name": "python3"
  },
  "language_info": {
   "codemirror_mode": {
    "name": "ipython",
    "version": 3
   },
   "file_extension": ".py",
   "mimetype": "text/x-python",
   "name": "python",
   "nbconvert_exporter": "python",
   "pygments_lexer": "ipython3",
   "version": "3.11.4"
  }
 },
 "nbformat": 4,
 "nbformat_minor": 2
}
