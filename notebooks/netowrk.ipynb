{
 "cells": [
  {
   "cell_type": "code",
   "execution_count": 1,
   "metadata": {},
   "outputs": [],
   "source": [
    "import pandas as pd\n",
    "import networkx as nx "
   ]
  },
  {
   "cell_type": "code",
   "execution_count": null,
   "metadata": {},
   "outputs": [],
   "source": [
    "def json_to_dataframe(json_data):\n",
    "    flattened_data = []\n",
    "    for item in json_data:\n",
    "        if 'data' in item and 'search_by_raw_query' in item['data'] and 'search_timeline' in item['data']['search_by_raw_query']:\n",
    "            timeline = item['data']['search_by_raw_query']['search_timeline']\n",
    "            if 'timeline' in timeline and 'instructions' in timeline['timeline']:\n",
    "                instructions = timeline['timeline']['instructions']\n",
    "                for instruction in instructions:\n",
    "                    if instruction['type'] == 'TimelineAddEntries' and 'entries' in instruction:\n",
    "                        for entry in instruction['entries']:\n",
    "                            if 'content' in entry and 'itemContent' in entry['content']:\n",
    "                                tweet_content = entry['content']['itemContent']\n",
    "                                if tweet_content['itemType'] == 'TimelineTweet' and 'tweet_results' in tweet_content:\n",
    "                                    tweet_info = tweet_content['tweet_results']['result']\n",
    "                                    if 'core' in tweet_info and 'user_results' in tweet_info['core']:\n",
    "                                        user_info = tweet_info['core']['user_results']['result']\n",
    "\n",
    "                                        tweet_id = tweet_info.get('rest_id', '')\n",
    "                                        user_id = user_info.get('rest_id', '')\n",
    "                                        username = user_info.get('legacy', {}).get('screen_name', '')\n",
    "                                        description = user_info.get('legacy', {}).get('description', '')\n",
    "                                        tweet_text = tweet_info.get('legacy', {}).get('full_text', '')\n",
    "                                        tweet_date = tweet_info.get('legacy', {}).get('created_at', '') \n",
    "\n",
    "                                        flattened_data.append({\n",
    "                                            'tweet_id': tweet_id,\n",
    "                                            'user_id': user_id,\n",
    "                                            'username': username,\n",
    "                                            'description': description,\n",
    "                                            'tweet_text': tweet_text,\n",
    "                                            'tweet_date': tweet_date \n",
    "                                        })\n",
    "\n",
    "    return pd.DataFrame(flattened_data)\n",
    "\n",
    "def combine_json_files_to_dataframe(directory_path):\n",
    "    all_dataframes = []  \n",
    "    for filename in os.listdir(directory_path):\n",
    "        if filename.endswith('.json'):  \n",
    "            file_path = os.path.join(directory_path, filename)\n",
    "            with open(file_path, 'r', encoding='utf-8') as file:\n",
    "                json_data = json.load(file)\n",
    "                df = json_to_dataframe(json_data)\n",
    "                all_dataframes.append(df)\n",
    "\n",
    "    combined_dataframe = pd.concat(all_dataframes, ignore_index=True)\n",
    "    return combined_dataframe\n"
   ]
  }
 ],
 "metadata": {
  "kernelspec": {
   "display_name": "Python 3",
   "language": "python",
   "name": "python3"
  },
  "language_info": {
   "codemirror_mode": {
    "name": "ipython",
    "version": 3
   },
   "file_extension": ".py",
   "mimetype": "text/x-python",
   "name": "python",
   "nbconvert_exporter": "python",
   "pygments_lexer": "ipython3",
   "version": "3.11.4"
  }
 },
 "nbformat": 4,
 "nbformat_minor": 2
}
