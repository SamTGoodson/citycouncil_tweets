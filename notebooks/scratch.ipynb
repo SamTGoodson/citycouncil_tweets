{
 "cells": [
  {
   "cell_type": "code",
   "execution_count": 1,
   "metadata": {},
   "outputs": [],
   "source": [
    "import pandas as pd\n",
    "import numpy as np"
   ]
  },
  {
   "cell_type": "code",
   "execution_count": 35,
   "metadata": {},
   "outputs": [],
   "source": [
    "from textblob import TextBlob\n",
    "from vaderSentiment.vaderSentiment import SentimentIntensityAnalyzer\n",
    "from sklearn.cluster import KMeans"
   ]
  },
  {
   "cell_type": "code",
   "execution_count": 2,
   "metadata": {},
   "outputs": [],
   "source": [
    "cc_concat = pd.read_csv('data/cleaned_cc_tweets.csv')"
   ]
  },
  {
   "cell_type": "code",
   "execution_count": 4,
   "metadata": {},
   "outputs": [
    {
     "name": "stderr",
     "output_type": "stream",
     "text": [
      "C:\\Users\\samtg\\AppData\\Local\\Temp\\ipykernel_37184\\2144096723.py:1: DtypeWarning: Columns (28,29,31,39,41,42,43,49,67,68,69) have mixed types. Specify dtype option on import or set low_memory=False.\n",
      "  cc1 = pd.read_csv('data/cc_tweets1.csv')\n",
      "C:\\Users\\samtg\\AppData\\Local\\Temp\\ipykernel_37184\\2144096723.py:2: DtypeWarning: Columns (28,29,31,39,41,42,43,49,67,68,69) have mixed types. Specify dtype option on import or set low_memory=False.\n",
      "  cc2 = pd.read_csv('data/cc_tweets2.csv')\n"
     ]
    }
   ],
   "source": [
    "cc1 = pd.read_csv('data/cc_tweets1.csv')\n",
    "cc2 = pd.read_csv('data/cc_tweets2.csv')"
   ]
  },
  {
   "cell_type": "code",
   "execution_count": 8,
   "metadata": {},
   "outputs": [],
   "source": [
    "current_cc = [\n",
    "    'SandraForNY1', 'LincolnRestler', 'BobHoldenNYC', 'OswaldFeliz', 'AdrienneCD28',\n",
    "    'KalmanYegerNYC', 'DianaAyalaNYC', 'mvelaznyc', 'KevinCRiley', 'CMMercedesCD46',\n",
    "    'CMCarlinaRivera', 'Lynn4NYC', 'juliej_won', 'PiSanchezNYC', 'GaleBrewerNYC',\n",
    "    'crystalrhudson', 'voteshekar', 'ChrisMarteNYC', 'NYCCouncil38', 'DarleneMealy55',\n",
    "    'Salamancajr80', 'AriKagan47', 'OsseChi', 'KamillahMHanks', 'CarlinaRivera',\n",
    "    'AmandaFariasNYC', 'KeithPowersNYC', 'CMDarleneMealy', 'ShahanaFromBK',\n",
    "    'InnaVernikov', 'Powers4Queens', 'KalmanYeger', 'FranciscoMoyaNY', 'JimGennaro',\n",
    "    'alexaforcouncil', 'CMNantashaW', 'JoeBorelliNYC', 'CnDelarosa', 'JustinBrannan',\n",
    "    'EricDinowitz', 'ShaunAbreu', 'DarleneMealy', 'JulieMenin', 'ebottcher',\n",
    "    'DMCarr', 'JoannAriola32', 'galeabrewer', 'FarahNLouis',\n",
    "    'CMShekarK', 'CMRitaJoseph', 'CouncilwomanKrj', 'CMvpaladino', 'CMPiSanchez',\n",
    "    'CMJenGutierrez', 'cmmvelaz', 'CMbarron2', 'CMSandyNurse', 'CMBrooksPowers',\n",
    "    'A_StevensD16', 'CMShaunAbreu', 'CMLindaLee', 'CMSandraUng', 'CMCrystalHudson',\n",
    "    'CMRestler', 'CMChiOsse', 'CMAriKagan47', 'CMJulieWon', 'CabanD22', 'CMDMCarr',\n",
    "    'CMSalamancaJr', 'CMKevinCRiley', 'CMAmandaFarias', 'EricDinowitzNYC',\n",
    "    'CMFranciscoMoya', 'NYCCouncilAyala', 'AdrienneToYou', 'NYCSpeakerAdams',\n",
    "    'CMShahanaHanif', 'VickieforNYC', 'LindaLeeforNYC', 'JenGutierrezNYC',\n",
    "    'CarmenForNYC', 'SandyforCouncil', 'RitaJosephNYC', 'CMFarahLouis', 'CMBobHoldenNYC',\n",
    "    'althea4theBX', 'nycpa', 'tiffany_caban'\n",
    "]\n"
   ]
  },
  {
   "cell_type": "code",
   "execution_count": 10,
   "metadata": {},
   "outputs": [],
   "source": [
    "cc1_only = cc1[cc1['author.username'].isin(current_cc)]\n",
    "cc2_only = cc2[cc2['author.username'].isin(current_cc)]"
   ]
  },
  {
   "cell_type": "code",
   "execution_count": 15,
   "metadata": {},
   "outputs": [
    {
     "name": "stdout",
     "output_type": "stream",
     "text": [
      "(880968, 83)\n"
     ]
    }
   ],
   "source": [
    "#check size of each df\n",
    "print(cc2.shape)"
   ]
  },
  {
   "cell_type": "code",
   "execution_count": 14,
   "metadata": {},
   "outputs": [],
   "source": [
    "#concat the two dfs\n",
    "cc_concat = pd.concat([cc1_only, cc2_only])"
   ]
  },
  {
   "cell_type": "code",
   "execution_count": 25,
   "metadata": {},
   "outputs": [],
   "source": [
    "cc_concat.rename(columns={'created_at': 'date',\n",
    "                          'public_metrics.retweet_count': 'retweets', \n",
    "                          'in_reply_to_username': 'reply_to',\n",
    "                          'retweeted_username': 'retweeted',\n",
    "                          'author.username': 'username', \n",
    "                          'author.name': 'name',\n",
    "                          'author.verified': 'verified', \n",
    "                          'public_metrics.like_count': 'likes', \n",
    "                          'public_metrics.quote_count': 'quotes', \n",
    "                          'public_metrics.reply_count': 'replies',\n",
    "                           'author.description': 'user_bio'},\n",
    "                            inplace=True)"
   ]
  },
  {
   "cell_type": "code",
   "execution_count": 26,
   "metadata": {},
   "outputs": [],
   "source": [
    "cc_concat = cc_concat[['date', 'username', 'name', 'text', 'retweets',\n",
    "           'likes', 'replies',  'quotes', 'user_bio','reply_to', 'retweeted']]"
   ]
  },
  {
   "cell_type": "code",
   "execution_count": 36,
   "metadata": {},
   "outputs": [],
   "source": [
    "def get_sentiment_score(text):\n",
    "    blob = TextBlob(text)\n",
    "    return blob.sentiment.polarity\n"
   ]
  },
  {
   "cell_type": "code",
   "execution_count": 79,
   "metadata": {},
   "outputs": [],
   "source": [
    "police = ['cop', 'police', 'nypd','officer']\n",
    "tax = ['tax','taxes']\n",
    "bail = ['bail reform']\n",
    "jail = ['jail','rikers']\n",
    "bus = ['bus','bus lane']\n",
    "bike = ['bike','bike lane','protected bike lane','cycle','cyclist']\n",
    "housing = ['rent control','good cause eviction''affordable housing']\n",
    "homeless = ['homeless','homelessness','homeless shelter']\n",
    "rezone = ['rezoning','rezoned','upzoning','upzoned']\n",
    "unions = ['dc37','1199seiou']"
   ]
  },
  {
   "cell_type": "code",
   "execution_count": 68,
   "metadata": {},
   "outputs": [],
   "source": [
    "catagories = [police, bail, jail, bus, bike, housing, homeless, rezone, unions]"
   ]
  },
  {
   "cell_type": "code",
   "execution_count": 38,
   "metadata": {},
   "outputs": [],
   "source": [
    "cop_tweets = cc_concat[cc_concat['text'].str.contains('|'.join(police), case=False)]"
   ]
  },
  {
   "cell_type": "code",
   "execution_count": 40,
   "metadata": {},
   "outputs": [
    {
     "name": "stderr",
     "output_type": "stream",
     "text": [
      "C:\\Users\\samtg\\AppData\\Local\\Temp\\ipykernel_37184\\425138969.py:1: SettingWithCopyWarning: \n",
      "A value is trying to be set on a copy of a slice from a DataFrame.\n",
      "Try using .loc[row_indexer,col_indexer] = value instead\n",
      "\n",
      "See the caveats in the documentation: https://pandas.pydata.org/pandas-docs/stable/user_guide/indexing.html#returning-a-view-versus-a-copy\n",
      "  cop_tweets['sentiment_score'] = cop_tweets['text'].apply(get_sentiment_score)\n"
     ]
    }
   ],
   "source": [
    "cop_tweets['sentiment_score'] = cop_tweets['text'].apply(get_sentiment_score)"
   ]
  },
  {
   "cell_type": "code",
   "execution_count": 54,
   "metadata": {},
   "outputs": [],
   "source": [
    "cop_username = cop_tweets.groupby('username')['sentiment_score'].mean().sort_values(ascending=False).reset_index()"
   ]
  },
  {
   "cell_type": "code",
   "execution_count": 61,
   "metadata": {},
   "outputs": [],
   "source": [
    "sentimentAnalyser = SentimentIntensityAnalyzer()"
   ]
  },
  {
   "cell_type": "code",
   "execution_count": 62,
   "metadata": {},
   "outputs": [],
   "source": [
    "def calculate_sentiment(text):\n",
    "    scores = sentimentAnalyser.polarity_scores(text)\n",
    "    compound_score = scores['compound']\n",
    "    return compound_score"
   ]
  },
  {
   "cell_type": "code",
   "execution_count": 63,
   "metadata": {},
   "outputs": [
    {
     "name": "stderr",
     "output_type": "stream",
     "text": [
      "C:\\Users\\samtg\\AppData\\Local\\Temp\\ipykernel_37184\\991218961.py:1: SettingWithCopyWarning: \n",
      "A value is trying to be set on a copy of a slice from a DataFrame.\n",
      "Try using .loc[row_indexer,col_indexer] = value instead\n",
      "\n",
      "See the caveats in the documentation: https://pandas.pydata.org/pandas-docs/stable/user_guide/indexing.html#returning-a-view-versus-a-copy\n",
      "  cop_tweets['vader_sentiment_score'] = cop_tweets['text'].apply(calculate_sentiment)\n"
     ]
    }
   ],
   "source": [
    "cop_tweets['vader_sentiment_score'] = cop_tweets['text'].apply(calculate_sentiment)"
   ]
  },
  {
   "cell_type": "code",
   "execution_count": 80,
   "metadata": {},
   "outputs": [],
   "source": [
    "categories = [police, tax, bail, jail, bus, bike, housing, homeless, rezone, unions]\n",
    "category_names = ['police','tax', 'bail', 'jail', 'bus', 'bike', 'housing', 'homeless', 'rezone', 'unions']"
   ]
  },
  {
   "cell_type": "code",
   "execution_count": 93,
   "metadata": {},
   "outputs": [],
   "source": [
    "def calculate_weighted_sentiment_scores(df, categories, category_names):\n",
    "\n",
    "    scores_df = pd.DataFrame()\n",
    "\n",
    "\n",
    "    for category, name in zip(categories, category_names):\n",
    "        subset = df[df['text'].str.contains('|'.join(category), case=False, na=False)]\n",
    "        subset[f'{name}_score'] = subset['text'].apply(calculate_sentiment)\n",
    "\n",
    "        # Perform groupby and calculate weighted average\n",
    "        weighted_avg = subset.groupby('username').apply(lambda x: np.average(x[f'{name}_score'], weights=x['text'].str.len()))\n",
    "        \n",
    "        # Convert result to DataFrame\n",
    "        weighted_avg = pd.DataFrame(weighted_avg, columns=[f'{name}_score']).reset_index()\n",
    "\n",
    "        if scores_df.empty:\n",
    "            scores_df = weighted_avg\n",
    "        else:\n",
    "            scores_df = pd.merge(scores_df, weighted_avg, on='username', how='left')\n",
    "\n",
    "    scores_df.fillna(0, inplace=True)\n",
    "    return scores_df\n"
   ]
  },
  {
   "cell_type": "code",
   "execution_count": 94,
   "metadata": {},
   "outputs": [
    {
     "name": "stderr",
     "output_type": "stream",
     "text": [
      "C:\\Users\\samtg\\AppData\\Local\\Temp\\ipykernel_37184\\1537008052.py:8: SettingWithCopyWarning: \n",
      "A value is trying to be set on a copy of a slice from a DataFrame.\n",
      "Try using .loc[row_indexer,col_indexer] = value instead\n",
      "\n",
      "See the caveats in the documentation: https://pandas.pydata.org/pandas-docs/stable/user_guide/indexing.html#returning-a-view-versus-a-copy\n",
      "  subset[f'{name}_score'] = subset['text'].apply(calculate_sentiment)\n",
      "C:\\Users\\samtg\\AppData\\Local\\Temp\\ipykernel_37184\\1537008052.py:8: SettingWithCopyWarning: \n",
      "A value is trying to be set on a copy of a slice from a DataFrame.\n",
      "Try using .loc[row_indexer,col_indexer] = value instead\n",
      "\n",
      "See the caveats in the documentation: https://pandas.pydata.org/pandas-docs/stable/user_guide/indexing.html#returning-a-view-versus-a-copy\n",
      "  subset[f'{name}_score'] = subset['text'].apply(calculate_sentiment)\n",
      "C:\\Users\\samtg\\AppData\\Local\\Temp\\ipykernel_37184\\1537008052.py:8: SettingWithCopyWarning: \n",
      "A value is trying to be set on a copy of a slice from a DataFrame.\n",
      "Try using .loc[row_indexer,col_indexer] = value instead\n",
      "\n",
      "See the caveats in the documentation: https://pandas.pydata.org/pandas-docs/stable/user_guide/indexing.html#returning-a-view-versus-a-copy\n",
      "  subset[f'{name}_score'] = subset['text'].apply(calculate_sentiment)\n",
      "C:\\Users\\samtg\\AppData\\Local\\Temp\\ipykernel_37184\\1537008052.py:8: SettingWithCopyWarning: \n",
      "A value is trying to be set on a copy of a slice from a DataFrame.\n",
      "Try using .loc[row_indexer,col_indexer] = value instead\n",
      "\n",
      "See the caveats in the documentation: https://pandas.pydata.org/pandas-docs/stable/user_guide/indexing.html#returning-a-view-versus-a-copy\n",
      "  subset[f'{name}_score'] = subset['text'].apply(calculate_sentiment)\n",
      "C:\\Users\\samtg\\AppData\\Local\\Temp\\ipykernel_37184\\1537008052.py:8: SettingWithCopyWarning: \n",
      "A value is trying to be set on a copy of a slice from a DataFrame.\n",
      "Try using .loc[row_indexer,col_indexer] = value instead\n",
      "\n",
      "See the caveats in the documentation: https://pandas.pydata.org/pandas-docs/stable/user_guide/indexing.html#returning-a-view-versus-a-copy\n",
      "  subset[f'{name}_score'] = subset['text'].apply(calculate_sentiment)\n",
      "C:\\Users\\samtg\\AppData\\Local\\Temp\\ipykernel_37184\\1537008052.py:8: SettingWithCopyWarning: \n",
      "A value is trying to be set on a copy of a slice from a DataFrame.\n",
      "Try using .loc[row_indexer,col_indexer] = value instead\n",
      "\n",
      "See the caveats in the documentation: https://pandas.pydata.org/pandas-docs/stable/user_guide/indexing.html#returning-a-view-versus-a-copy\n",
      "  subset[f'{name}_score'] = subset['text'].apply(calculate_sentiment)\n",
      "C:\\Users\\samtg\\AppData\\Local\\Temp\\ipykernel_37184\\1537008052.py:8: SettingWithCopyWarning: \n",
      "A value is trying to be set on a copy of a slice from a DataFrame.\n",
      "Try using .loc[row_indexer,col_indexer] = value instead\n",
      "\n",
      "See the caveats in the documentation: https://pandas.pydata.org/pandas-docs/stable/user_guide/indexing.html#returning-a-view-versus-a-copy\n",
      "  subset[f'{name}_score'] = subset['text'].apply(calculate_sentiment)\n",
      "C:\\Users\\samtg\\AppData\\Local\\Temp\\ipykernel_37184\\1537008052.py:8: SettingWithCopyWarning: \n",
      "A value is trying to be set on a copy of a slice from a DataFrame.\n",
      "Try using .loc[row_indexer,col_indexer] = value instead\n",
      "\n",
      "See the caveats in the documentation: https://pandas.pydata.org/pandas-docs/stable/user_guide/indexing.html#returning-a-view-versus-a-copy\n",
      "  subset[f'{name}_score'] = subset['text'].apply(calculate_sentiment)\n",
      "C:\\Users\\samtg\\AppData\\Local\\Temp\\ipykernel_37184\\1537008052.py:8: SettingWithCopyWarning: \n",
      "A value is trying to be set on a copy of a slice from a DataFrame.\n",
      "Try using .loc[row_indexer,col_indexer] = value instead\n",
      "\n",
      "See the caveats in the documentation: https://pandas.pydata.org/pandas-docs/stable/user_guide/indexing.html#returning-a-view-versus-a-copy\n",
      "  subset[f'{name}_score'] = subset['text'].apply(calculate_sentiment)\n"
     ]
    }
   ],
   "source": [
    "result_df = calculate_weighted_sentiment_scores(cc_concat, categories, category_names)"
   ]
  },
  {
   "cell_type": "code",
   "execution_count": 95,
   "metadata": {},
   "outputs": [
    {
     "name": "stderr",
     "output_type": "stream",
     "text": [
      "c:\\Users\\samtg\\AppData\\Local\\Programs\\Python\\Python311\\Lib\\site-packages\\sklearn\\cluster\\_kmeans.py:1416: FutureWarning: The default value of `n_init` will change from 10 to 'auto' in 1.4. Set the value of `n_init` explicitly to suppress the warning\n",
      "  super()._check_params_vs_input(X, default_n_init=10)\n"
     ]
    }
   ],
   "source": [
    "X = result_df.drop('username', axis=1)\n",
    "k = 5\n",
    "kmeans = KMeans(n_clusters=k, random_state=0).fit(X)\n",
    "result_df['cluster'] = kmeans.labels_"
   ]
  },
  {
   "cell_type": "code",
   "execution_count": 96,
   "metadata": {},
   "outputs": [
    {
     "data": {
      "text/html": [
       "<div>\n",
       "<style scoped>\n",
       "    .dataframe tbody tr th:only-of-type {\n",
       "        vertical-align: middle;\n",
       "    }\n",
       "\n",
       "    .dataframe tbody tr th {\n",
       "        vertical-align: top;\n",
       "    }\n",
       "\n",
       "    .dataframe thead th {\n",
       "        text-align: right;\n",
       "    }\n",
       "</style>\n",
       "<table border=\"1\" class=\"dataframe\">\n",
       "  <thead>\n",
       "    <tr style=\"text-align: right;\">\n",
       "      <th></th>\n",
       "      <th>username</th>\n",
       "      <th>police_score</th>\n",
       "      <th>tax_score</th>\n",
       "      <th>bail_score</th>\n",
       "      <th>jail_score</th>\n",
       "      <th>bus_score</th>\n",
       "      <th>bike_score</th>\n",
       "      <th>housing_score</th>\n",
       "      <th>homeless_score</th>\n",
       "      <th>rezone_score</th>\n",
       "      <th>unions_score</th>\n",
       "      <th>cluster</th>\n",
       "    </tr>\n",
       "  </thead>\n",
       "  <tbody>\n",
       "    <tr>\n",
       "      <th>0</th>\n",
       "      <td>A_StevensD16</td>\n",
       "      <td>0.432458</td>\n",
       "      <td>0.810400</td>\n",
       "      <td>0.000000</td>\n",
       "      <td>0.000000</td>\n",
       "      <td>0.752289</td>\n",
       "      <td>0.691631</td>\n",
       "      <td>0</td>\n",
       "      <td>0.000000</td>\n",
       "      <td>0.0000</td>\n",
       "      <td>0.000000</td>\n",
       "      <td>4</td>\n",
       "    </tr>\n",
       "    <tr>\n",
       "      <th>1</th>\n",
       "      <td>AdrienneToYou</td>\n",
       "      <td>0.968600</td>\n",
       "      <td>0.000000</td>\n",
       "      <td>0.000000</td>\n",
       "      <td>0.000000</td>\n",
       "      <td>0.202455</td>\n",
       "      <td>0.796400</td>\n",
       "      <td>0</td>\n",
       "      <td>-0.025800</td>\n",
       "      <td>0.0000</td>\n",
       "      <td>0.000000</td>\n",
       "      <td>3</td>\n",
       "    </tr>\n",
       "    <tr>\n",
       "      <th>2</th>\n",
       "      <td>AmandaFariasNYC</td>\n",
       "      <td>-0.224849</td>\n",
       "      <td>0.583700</td>\n",
       "      <td>0.000000</td>\n",
       "      <td>0.000000</td>\n",
       "      <td>0.631566</td>\n",
       "      <td>0.584603</td>\n",
       "      <td>0</td>\n",
       "      <td>0.000000</td>\n",
       "      <td>0.0000</td>\n",
       "      <td>0.000000</td>\n",
       "      <td>4</td>\n",
       "    </tr>\n",
       "    <tr>\n",
       "      <th>3</th>\n",
       "      <td>AriKagan47</td>\n",
       "      <td>0.443980</td>\n",
       "      <td>0.450559</td>\n",
       "      <td>0.745000</td>\n",
       "      <td>-0.656687</td>\n",
       "      <td>0.503887</td>\n",
       "      <td>0.135596</td>\n",
       "      <td>0</td>\n",
       "      <td>0.611156</td>\n",
       "      <td>0.0000</td>\n",
       "      <td>0.000000</td>\n",
       "      <td>2</td>\n",
       "    </tr>\n",
       "    <tr>\n",
       "      <th>4</th>\n",
       "      <td>BobHoldenNYC</td>\n",
       "      <td>0.214182</td>\n",
       "      <td>0.155535</td>\n",
       "      <td>-0.711779</td>\n",
       "      <td>-0.234929</td>\n",
       "      <td>0.016653</td>\n",
       "      <td>0.125999</td>\n",
       "      <td>0</td>\n",
       "      <td>0.221807</td>\n",
       "      <td>0.0000</td>\n",
       "      <td>0.000000</td>\n",
       "      <td>0</td>\n",
       "    </tr>\n",
       "    <tr>\n",
       "      <th>...</th>\n",
       "      <td>...</td>\n",
       "      <td>...</td>\n",
       "      <td>...</td>\n",
       "      <td>...</td>\n",
       "      <td>...</td>\n",
       "      <td>...</td>\n",
       "      <td>...</td>\n",
       "      <td>...</td>\n",
       "      <td>...</td>\n",
       "      <td>...</td>\n",
       "      <td>...</td>\n",
       "      <td>...</td>\n",
       "    </tr>\n",
       "    <tr>\n",
       "      <th>79</th>\n",
       "      <td>juliej_won</td>\n",
       "      <td>0.006597</td>\n",
       "      <td>0.309338</td>\n",
       "      <td>0.000000</td>\n",
       "      <td>-0.461400</td>\n",
       "      <td>0.342982</td>\n",
       "      <td>0.089021</td>\n",
       "      <td>0</td>\n",
       "      <td>-0.050392</td>\n",
       "      <td>0.7500</td>\n",
       "      <td>0.419900</td>\n",
       "      <td>1</td>\n",
       "    </tr>\n",
       "    <tr>\n",
       "      <th>80</th>\n",
       "      <td>mvelaznyc</td>\n",
       "      <td>0.129516</td>\n",
       "      <td>0.443820</td>\n",
       "      <td>0.000000</td>\n",
       "      <td>0.000000</td>\n",
       "      <td>0.340498</td>\n",
       "      <td>0.129281</td>\n",
       "      <td>0</td>\n",
       "      <td>0.000000</td>\n",
       "      <td>0.0000</td>\n",
       "      <td>0.000000</td>\n",
       "      <td>4</td>\n",
       "    </tr>\n",
       "    <tr>\n",
       "      <th>81</th>\n",
       "      <td>nycpa</td>\n",
       "      <td>0.064548</td>\n",
       "      <td>0.688290</td>\n",
       "      <td>0.203059</td>\n",
       "      <td>-0.150835</td>\n",
       "      <td>0.155686</td>\n",
       "      <td>0.702832</td>\n",
       "      <td>0</td>\n",
       "      <td>0.234642</td>\n",
       "      <td>0.0000</td>\n",
       "      <td>0.000000</td>\n",
       "      <td>4</td>\n",
       "    </tr>\n",
       "    <tr>\n",
       "      <th>82</th>\n",
       "      <td>tiffany_caban</td>\n",
       "      <td>0.021752</td>\n",
       "      <td>-0.086468</td>\n",
       "      <td>0.000000</td>\n",
       "      <td>-0.097301</td>\n",
       "      <td>0.141296</td>\n",
       "      <td>-0.877300</td>\n",
       "      <td>0</td>\n",
       "      <td>-0.092957</td>\n",
       "      <td>0.0000</td>\n",
       "      <td>0.000000</td>\n",
       "      <td>0</td>\n",
       "    </tr>\n",
       "    <tr>\n",
       "      <th>83</th>\n",
       "      <td>voteshekar</td>\n",
       "      <td>0.373482</td>\n",
       "      <td>0.499891</td>\n",
       "      <td>0.000000</td>\n",
       "      <td>-0.480301</td>\n",
       "      <td>0.625498</td>\n",
       "      <td>0.429560</td>\n",
       "      <td>0</td>\n",
       "      <td>-0.251094</td>\n",
       "      <td>0.6124</td>\n",
       "      <td>0.342322</td>\n",
       "      <td>1</td>\n",
       "    </tr>\n",
       "  </tbody>\n",
       "</table>\n",
       "<p>84 rows × 12 columns</p>\n",
       "</div>"
      ],
      "text/plain": [
       "           username  police_score  tax_score  bail_score  jail_score  \\\n",
       "0      A_StevensD16      0.432458   0.810400    0.000000    0.000000   \n",
       "1     AdrienneToYou      0.968600   0.000000    0.000000    0.000000   \n",
       "2   AmandaFariasNYC     -0.224849   0.583700    0.000000    0.000000   \n",
       "3        AriKagan47      0.443980   0.450559    0.745000   -0.656687   \n",
       "4      BobHoldenNYC      0.214182   0.155535   -0.711779   -0.234929   \n",
       "..              ...           ...        ...         ...         ...   \n",
       "79       juliej_won      0.006597   0.309338    0.000000   -0.461400   \n",
       "80        mvelaznyc      0.129516   0.443820    0.000000    0.000000   \n",
       "81            nycpa      0.064548   0.688290    0.203059   -0.150835   \n",
       "82    tiffany_caban      0.021752  -0.086468    0.000000   -0.097301   \n",
       "83       voteshekar      0.373482   0.499891    0.000000   -0.480301   \n",
       "\n",
       "    bus_score  bike_score  housing_score  homeless_score  rezone_score  \\\n",
       "0    0.752289    0.691631              0        0.000000        0.0000   \n",
       "1    0.202455    0.796400              0       -0.025800        0.0000   \n",
       "2    0.631566    0.584603              0        0.000000        0.0000   \n",
       "3    0.503887    0.135596              0        0.611156        0.0000   \n",
       "4    0.016653    0.125999              0        0.221807        0.0000   \n",
       "..        ...         ...            ...             ...           ...   \n",
       "79   0.342982    0.089021              0       -0.050392        0.7500   \n",
       "80   0.340498    0.129281              0        0.000000        0.0000   \n",
       "81   0.155686    0.702832              0        0.234642        0.0000   \n",
       "82   0.141296   -0.877300              0       -0.092957        0.0000   \n",
       "83   0.625498    0.429560              0       -0.251094        0.6124   \n",
       "\n",
       "    unions_score  cluster  \n",
       "0       0.000000        4  \n",
       "1       0.000000        3  \n",
       "2       0.000000        4  \n",
       "3       0.000000        2  \n",
       "4       0.000000        0  \n",
       "..           ...      ...  \n",
       "79      0.419900        1  \n",
       "80      0.000000        4  \n",
       "81      0.000000        4  \n",
       "82      0.000000        0  \n",
       "83      0.342322        1  \n",
       "\n",
       "[84 rows x 12 columns]"
      ]
     },
     "execution_count": 96,
     "metadata": {},
     "output_type": "execute_result"
    }
   ],
   "source": [
    "result_df"
   ]
  }
 ],
 "metadata": {
  "kernelspec": {
   "display_name": "Python 3",
   "language": "python",
   "name": "python3"
  },
  "language_info": {
   "codemirror_mode": {
    "name": "ipython",
    "version": 3
   },
   "file_extension": ".py",
   "mimetype": "text/x-python",
   "name": "python",
   "nbconvert_exporter": "python",
   "pygments_lexer": "ipython3",
   "version": "3.11.4"
  }
 },
 "nbformat": 4,
 "nbformat_minor": 2
}
