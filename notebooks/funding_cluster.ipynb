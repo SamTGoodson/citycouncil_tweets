{
 "cells": [
  {
   "cell_type": "code",
   "execution_count": 1,
   "metadata": {},
   "outputs": [],
   "source": [
    "import pandas as pd\n",
    "import numpy as np\n",
    "\n",
    "from fuzzywuzzy import process\n",
    "from fuzzywuzzy import fuzz\n",
    "\n",
    "import re\n",
    "from sklearn.feature_extraction.text import TfidfVectorizer\n",
    "from collections import Counter\n",
    "\n",
    "from nltk.corpus import stopwords\n",
    "import nltk\n",
    "\n",
    "from scipy.sparse import csr_matrix"
   ]
  },
  {
   "cell_type": "code",
   "execution_count": 2,
   "metadata": {},
   "outputs": [],
   "source": [
    "tweet_df = pd.read_csv('../data/tweet_df.csv')\n",
    "tweet_df_fac = pd.read_csv('../data/tweet_df_fac.csv')\n",
    "finance_clusters = pd.read_csv('../../council_campaign_finance/data/winning_members_clusters.csv')"
   ]
  },
  {
   "cell_type": "code",
   "execution_count": 15,
   "metadata": {},
   "outputs": [
    {
     "data": {
      "text/html": [
       "<div>\n",
       "<style scoped>\n",
       "    .dataframe tbody tr th:only-of-type {\n",
       "        vertical-align: middle;\n",
       "    }\n",
       "\n",
       "    .dataframe tbody tr th {\n",
       "        vertical-align: top;\n",
       "    }\n",
       "\n",
       "    .dataframe thead th {\n",
       "        text-align: right;\n",
       "    }\n",
       "</style>\n",
       "<table border=\"1\" class=\"dataframe\">\n",
       "  <thead>\n",
       "    <tr style=\"text-align: right;\">\n",
       "      <th></th>\n",
       "      <th>Unnamed: 0</th>\n",
       "      <th>date</th>\n",
       "      <th>username</th>\n",
       "      <th>text</th>\n",
       "      <th>full_name</th>\n",
       "    </tr>\n",
       "  </thead>\n",
       "  <tbody>\n",
       "    <tr>\n",
       "      <th>0</th>\n",
       "      <td>0</td>\n",
       "      <td>2023-03-14T23:23:01.000Z</td>\n",
       "      <td>CMCrystalHudson</td>\n",
       "      <td>Thank you Aging Chair @CMCrystalHudson for hol...</td>\n",
       "      <td>Crystal Hudson</td>\n",
       "    </tr>\n",
       "    <tr>\n",
       "      <th>1</th>\n",
       "      <td>1</td>\n",
       "      <td>2023-03-14T22:56:52.000Z</td>\n",
       "      <td>EricDinowitzNYC</td>\n",
       "      <td>@cmmvelaz https://t.co/Cbl2pQAWz0</td>\n",
       "      <td>Eric Dinowitz</td>\n",
       "    </tr>\n",
       "    <tr>\n",
       "      <th>2</th>\n",
       "      <td>2</td>\n",
       "      <td>2023-03-14T22:50:55.000Z</td>\n",
       "      <td>NYCSpeakerAdams</td>\n",
       "      <td>Creating healthier and more sustainable public...</td>\n",
       "      <td>Adrienne E. Adams</td>\n",
       "    </tr>\n",
       "    <tr>\n",
       "      <th>3</th>\n",
       "      <td>3</td>\n",
       "      <td>2023-03-14T22:35:06.000Z</td>\n",
       "      <td>cmmvelaz</td>\n",
       "      <td>Today I toured the Parkchester/VanNest &amp;amp; M...</td>\n",
       "      <td>Marjorie Velázquez</td>\n",
       "    </tr>\n",
       "    <tr>\n",
       "      <th>4</th>\n",
       "      <td>4</td>\n",
       "      <td>2023-03-14T22:34:36.000Z</td>\n",
       "      <td>cmmvelaz</td>\n",
       "      <td>📣 RALLY ANNOUNCEMENT: NYC Council Members @CMM...</td>\n",
       "      <td>Marjorie Velázquez</td>\n",
       "    </tr>\n",
       "  </tbody>\n",
       "</table>\n",
       "</div>"
      ],
      "text/plain": [
       "   Unnamed: 0                      date         username  \\\n",
       "0           0  2023-03-14T23:23:01.000Z  CMCrystalHudson   \n",
       "1           1  2023-03-14T22:56:52.000Z  EricDinowitzNYC   \n",
       "2           2  2023-03-14T22:50:55.000Z  NYCSpeakerAdams   \n",
       "3           3  2023-03-14T22:35:06.000Z         cmmvelaz   \n",
       "4           4  2023-03-14T22:34:36.000Z         cmmvelaz   \n",
       "\n",
       "                                                text           full_name  \n",
       "0  Thank you Aging Chair @CMCrystalHudson for hol...      Crystal Hudson  \n",
       "1                  @cmmvelaz https://t.co/Cbl2pQAWz0       Eric Dinowitz  \n",
       "2  Creating healthier and more sustainable public...   Adrienne E. Adams  \n",
       "3  Today I toured the Parkchester/VanNest &amp; M...  Marjorie Velázquez  \n",
       "4  📣 RALLY ANNOUNCEMENT: NYC Council Members @CMM...  Marjorie Velázquez  "
      ]
     },
     "execution_count": 15,
     "metadata": {},
     "output_type": "execute_result"
    }
   ],
   "source": [
    "tweet_df.head()"
   ]
  },
  {
   "cell_type": "code",
   "execution_count": 3,
   "metadata": {},
   "outputs": [],
   "source": [
    "name_list = tweet_df['full_name'].unique()"
   ]
  },
  {
   "cell_type": "code",
   "execution_count": 21,
   "metadata": {},
   "outputs": [
    {
     "data": {
      "text/html": [
       "<div>\n",
       "<style scoped>\n",
       "    .dataframe tbody tr th:only-of-type {\n",
       "        vertical-align: middle;\n",
       "    }\n",
       "\n",
       "    .dataframe tbody tr th {\n",
       "        vertical-align: top;\n",
       "    }\n",
       "\n",
       "    .dataframe thead th {\n",
       "        text-align: right;\n",
       "    }\n",
       "</style>\n",
       "<table border=\"1\" class=\"dataframe\">\n",
       "  <thead>\n",
       "    <tr style=\"text-align: right;\">\n",
       "      <th></th>\n",
       "      <th>normalized_mem</th>\n",
       "      <th>count</th>\n",
       "      <th>total_amount</th>\n",
       "      <th>mean_amount</th>\n",
       "      <th>home_district_percentage</th>\n",
       "      <th>oos_percentage</th>\n",
       "      <th>perc_IND_value</th>\n",
       "      <th>perc_total</th>\n",
       "      <th>perc_highest</th>\n",
       "      <th>cluster</th>\n",
       "      <th>finance_cluster</th>\n",
       "      <th>matched_name</th>\n",
       "    </tr>\n",
       "  </thead>\n",
       "  <tbody>\n",
       "    <tr>\n",
       "      <th>0</th>\n",
       "      <td>Adrienne Adams</td>\n",
       "      <td>713</td>\n",
       "      <td>75300.08</td>\n",
       "      <td>105.610210</td>\n",
       "      <td>31.452750</td>\n",
       "      <td>16.078984</td>\n",
       "      <td>76.703696</td>\n",
       "      <td>61.530863</td>\n",
       "      <td>100.0</td>\n",
       "      <td>4</td>\n",
       "      <td>4</td>\n",
       "      <td>Adrienne E. Adams</td>\n",
       "    </tr>\n",
       "    <tr>\n",
       "      <th>1</th>\n",
       "      <td>Alexa Aviles</td>\n",
       "      <td>1699</td>\n",
       "      <td>78261.53</td>\n",
       "      <td>46.063290</td>\n",
       "      <td>16.746988</td>\n",
       "      <td>18.614458</td>\n",
       "      <td>86.896592</td>\n",
       "      <td>34.628641</td>\n",
       "      <td>100.0</td>\n",
       "      <td>1</td>\n",
       "      <td>1</td>\n",
       "      <td>Alexa Avilés</td>\n",
       "    </tr>\n",
       "    <tr>\n",
       "      <th>2</th>\n",
       "      <td>Althea V Stevens</td>\n",
       "      <td>606</td>\n",
       "      <td>37898.65</td>\n",
       "      <td>62.539026</td>\n",
       "      <td>10.252101</td>\n",
       "      <td>20.504202</td>\n",
       "      <td>71.531572</td>\n",
       "      <td>34.445552</td>\n",
       "      <td>100.0</td>\n",
       "      <td>1</td>\n",
       "      <td>1</td>\n",
       "      <td>Althea V.  Stevens</td>\n",
       "    </tr>\n",
       "    <tr>\n",
       "      <th>3</th>\n",
       "      <td>Amanda Farias</td>\n",
       "      <td>1101</td>\n",
       "      <td>60003.68</td>\n",
       "      <td>54.499255</td>\n",
       "      <td>8.140611</td>\n",
       "      <td>10.360777</td>\n",
       "      <td>84.117395</td>\n",
       "      <td>30.875704</td>\n",
       "      <td>100.0</td>\n",
       "      <td>1</td>\n",
       "      <td>1</td>\n",
       "      <td>Amanda Farías</td>\n",
       "    </tr>\n",
       "    <tr>\n",
       "      <th>4</th>\n",
       "      <td>Ari Kagan</td>\n",
       "      <td>592</td>\n",
       "      <td>70489.00</td>\n",
       "      <td>119.069257</td>\n",
       "      <td>39.414802</td>\n",
       "      <td>2.237522</td>\n",
       "      <td>85.947521</td>\n",
       "      <td>50.508646</td>\n",
       "      <td>100.0</td>\n",
       "      <td>2</td>\n",
       "      <td>2</td>\n",
       "      <td>Ari Kagan</td>\n",
       "    </tr>\n",
       "  </tbody>\n",
       "</table>\n",
       "</div>"
      ],
      "text/plain": [
       "     normalized_mem  count  total_amount  mean_amount  \\\n",
       "0    Adrienne Adams    713      75300.08   105.610210   \n",
       "1      Alexa Aviles   1699      78261.53    46.063290   \n",
       "2  Althea V Stevens    606      37898.65    62.539026   \n",
       "3     Amanda Farias   1101      60003.68    54.499255   \n",
       "4         Ari Kagan    592      70489.00   119.069257   \n",
       "\n",
       "   home_district_percentage  oos_percentage  perc_IND_value  perc_total  \\\n",
       "0                 31.452750       16.078984       76.703696   61.530863   \n",
       "1                 16.746988       18.614458       86.896592   34.628641   \n",
       "2                 10.252101       20.504202       71.531572   34.445552   \n",
       "3                  8.140611       10.360777       84.117395   30.875704   \n",
       "4                 39.414802        2.237522       85.947521   50.508646   \n",
       "\n",
       "   perc_highest  cluster  finance_cluster        matched_name  \n",
       "0         100.0        4                4   Adrienne E. Adams  \n",
       "1         100.0        1                1        Alexa Avilés  \n",
       "2         100.0        1                1  Althea V.  Stevens  \n",
       "3         100.0        1                1       Amanda Farías  \n",
       "4         100.0        2                2           Ari Kagan  "
      ]
     },
     "execution_count": 21,
     "metadata": {},
     "output_type": "execute_result"
    }
   ],
   "source": [
    "finance_clusters.head()"
   ]
  },
  {
   "cell_type": "code",
   "execution_count": 4,
   "metadata": {},
   "outputs": [],
   "source": [
    "def match_names(name, names_list):\n",
    "    match, score = process.extractOne(name, names_list, scorer=fuzz.token_sort_ratio)\n",
    "    return match if score >= 90 else name"
   ]
  },
  {
   "cell_type": "code",
   "execution_count": 5,
   "metadata": {},
   "outputs": [],
   "source": [
    "finance_clusters['matched_name'] = finance_clusters['normalized_mem'].apply(lambda x: match_names(x, name_list.tolist()))"
   ]
  },
  {
   "cell_type": "code",
   "execution_count": 6,
   "metadata": {},
   "outputs": [],
   "source": [
    "fc = finance_clusters[['matched_name','cluster']]"
   ]
  },
  {
   "cell_type": "code",
   "execution_count": 7,
   "metadata": {},
   "outputs": [],
   "source": [
    "tweet_fc = tweet_df.merge(fc, left_on='full_name', right_on='matched_name', how='left')"
   ]
  },
  {
   "cell_type": "code",
   "execution_count": 8,
   "metadata": {},
   "outputs": [],
   "source": [
    "tweet_fc = tweet_fc[['date','text','matched_name','cluster']]"
   ]
  },
  {
   "cell_type": "code",
   "execution_count": 9,
   "metadata": {},
   "outputs": [
    {
     "name": "stderr",
     "output_type": "stream",
     "text": [
      "C:\\Users\\samtg\\AppData\\Local\\Temp\\ipykernel_40660\\915391621.py:3: UserWarning: Converting to PeriodArray/Index representation will drop timezone information.\n",
      "  tweet_fc['month'] = tweet_fc['date'].dt.to_period('M')\n"
     ]
    }
   ],
   "source": [
    "# count tweets by month\n",
    "tweet_fc['date'] = pd.to_datetime(tweet_fc['date'])\n",
    "tweet_fc['month'] = tweet_fc['date'].dt.to_period('M')"
   ]
  },
  {
   "cell_type": "code",
   "execution_count": 51,
   "metadata": {},
   "outputs": [],
   "source": [
    "tweet_fc.dropna(subset=['matched_name'], inplace=True)"
   ]
  },
  {
   "cell_type": "code",
   "execution_count": 33,
   "metadata": {},
   "outputs": [
    {
     "data": {
      "text/html": [
       "<div>\n",
       "<style scoped>\n",
       "    .dataframe tbody tr th:only-of-type {\n",
       "        vertical-align: middle;\n",
       "    }\n",
       "\n",
       "    .dataframe tbody tr th {\n",
       "        vertical-align: top;\n",
       "    }\n",
       "\n",
       "    .dataframe thead th {\n",
       "        text-align: right;\n",
       "    }\n",
       "</style>\n",
       "<table border=\"1\" class=\"dataframe\">\n",
       "  <thead>\n",
       "    <tr style=\"text-align: right;\">\n",
       "      <th></th>\n",
       "      <th>date</th>\n",
       "      <th>text</th>\n",
       "      <th>matched_name</th>\n",
       "      <th>cluster</th>\n",
       "      <th>month</th>\n",
       "    </tr>\n",
       "  </thead>\n",
       "  <tbody>\n",
       "    <tr>\n",
       "      <th>15600</th>\n",
       "      <td>2022-07-09 12:34:00+00:00</td>\n",
       "      <td>Eid al-Adha teaches us the meaning of selfless...</td>\n",
       "      <td>Sandra Ung</td>\n",
       "      <td>2.0</td>\n",
       "      <td>2022-07</td>\n",
       "    </tr>\n",
       "    <tr>\n",
       "      <th>134469</th>\n",
       "      <td>2023-10-07 23:54:02+00:00</td>\n",
       "      <td>My statement on today’s attacks and violence i...</td>\n",
       "      <td>Sandy Nurse</td>\n",
       "      <td>1.0</td>\n",
       "      <td>2023-10</td>\n",
       "    </tr>\n",
       "    <tr>\n",
       "      <th>49760</th>\n",
       "      <td>2022-05-06 18:24:11+00:00</td>\n",
       "      <td>LIVE NOW in Morris Park with @NYCMayor @bronxb...</td>\n",
       "      <td>Oswald Feliz</td>\n",
       "      <td>0.0</td>\n",
       "      <td>2022-05</td>\n",
       "    </tr>\n",
       "    <tr>\n",
       "      <th>73618</th>\n",
       "      <td>2023-08-08 14:32:05+00:00</td>\n",
       "      <td>💃🏻I am proud to be partnering with @AcaciaNetw...</td>\n",
       "      <td>Rafael Salamanca, Jr.</td>\n",
       "      <td>3.0</td>\n",
       "      <td>2023-08</td>\n",
       "    </tr>\n",
       "    <tr>\n",
       "      <th>21338</th>\n",
       "      <td>2022-04-28 13:46:08+00:00</td>\n",
       "      <td>Wifi is a utility, not a luxury. Black New Yor...</td>\n",
       "      <td>Julie Won</td>\n",
       "      <td>1.0</td>\n",
       "      <td>2022-04</td>\n",
       "    </tr>\n",
       "    <tr>\n",
       "      <th>69745</th>\n",
       "      <td>2021-04-22 19:56:29+00:00</td>\n",
       "      <td>Today is #EarthDay. Here is how the City Counc...</td>\n",
       "      <td>Shaun Abreu</td>\n",
       "      <td>2.0</td>\n",
       "      <td>2021-04</td>\n",
       "    </tr>\n",
       "    <tr>\n",
       "      <th>33223</th>\n",
       "      <td>2023-01-16 17:50:25+00:00</td>\n",
       "      <td>Con verdadero espíritu laboral, MLK estaba en ...</td>\n",
       "      <td>Carmen N. De La Rosa</td>\n",
       "      <td>2.0</td>\n",
       "      <td>2023-01</td>\n",
       "    </tr>\n",
       "    <tr>\n",
       "      <th>95199</th>\n",
       "      <td>2023-07-29 21:42:37+00:00</td>\n",
       "      <td>Unfortunately we are postponing tonight’s movi...</td>\n",
       "      <td>Sandy Nurse</td>\n",
       "      <td>1.0</td>\n",
       "      <td>2023-07</td>\n",
       "    </tr>\n",
       "    <tr>\n",
       "      <th>34968</th>\n",
       "      <td>2022-12-12 16:02:36+00:00</td>\n",
       "      <td>We’re drowning in single-use plastic!\\n\\nToday...</td>\n",
       "      <td>Shaun Abreu</td>\n",
       "      <td>2.0</td>\n",
       "      <td>2022-12</td>\n",
       "    </tr>\n",
       "    <tr>\n",
       "      <th>144558</th>\n",
       "      <td>2021-09-21 14:14:09+00:00</td>\n",
       "      <td>The @MTA is seeking new bus operators! These p...</td>\n",
       "      <td>Adrienne E. Adams</td>\n",
       "      <td>4.0</td>\n",
       "      <td>2021-09</td>\n",
       "    </tr>\n",
       "  </tbody>\n",
       "</table>\n",
       "</div>"
      ],
      "text/plain": [
       "                            date  \\\n",
       "15600  2022-07-09 12:34:00+00:00   \n",
       "134469 2023-10-07 23:54:02+00:00   \n",
       "49760  2022-05-06 18:24:11+00:00   \n",
       "73618  2023-08-08 14:32:05+00:00   \n",
       "21338  2022-04-28 13:46:08+00:00   \n",
       "69745  2021-04-22 19:56:29+00:00   \n",
       "33223  2023-01-16 17:50:25+00:00   \n",
       "95199  2023-07-29 21:42:37+00:00   \n",
       "34968  2022-12-12 16:02:36+00:00   \n",
       "144558 2021-09-21 14:14:09+00:00   \n",
       "\n",
       "                                                     text  \\\n",
       "15600   Eid al-Adha teaches us the meaning of selfless...   \n",
       "134469  My statement on today’s attacks and violence i...   \n",
       "49760   LIVE NOW in Morris Park with @NYCMayor @bronxb...   \n",
       "73618   💃🏻I am proud to be partnering with @AcaciaNetw...   \n",
       "21338   Wifi is a utility, not a luxury. Black New Yor...   \n",
       "69745   Today is #EarthDay. Here is how the City Counc...   \n",
       "33223   Con verdadero espíritu laboral, MLK estaba en ...   \n",
       "95199   Unfortunately we are postponing tonight’s movi...   \n",
       "34968   We’re drowning in single-use plastic!\\n\\nToday...   \n",
       "144558  The @MTA is seeking new bus operators! These p...   \n",
       "\n",
       "                 matched_name  cluster    month  \n",
       "15600              Sandra Ung      2.0  2022-07  \n",
       "134469            Sandy Nurse      1.0  2023-10  \n",
       "49760            Oswald Feliz      0.0  2022-05  \n",
       "73618   Rafael Salamanca, Jr.      3.0  2023-08  \n",
       "21338               Julie Won      1.0  2022-04  \n",
       "69745             Shaun Abreu      2.0  2021-04  \n",
       "33223    Carmen N. De La Rosa      2.0  2023-01  \n",
       "95199             Sandy Nurse      1.0  2023-07  \n",
       "34968             Shaun Abreu      2.0  2022-12  \n",
       "144558      Adrienne E. Adams      4.0  2021-09  "
      ]
     },
     "execution_count": 33,
     "metadata": {},
     "output_type": "execute_result"
    }
   ],
   "source": [
    "tweet_fc.sample(10)"
   ]
  },
  {
   "cell_type": "code",
   "execution_count": 10,
   "metadata": {},
   "outputs": [],
   "source": [
    "def preprocess_text(text, stopwords):\n",
    "    text = re.sub(r'http\\S+|www\\S+|@\\w+|#\\w+', '', text.lower())  \n",
    "    text = re.sub(r'[^\\w\\s]', '', text)  \n",
    "    tokens = [word for word in text.split() if word not in stopwords]  \n",
    "    return ' '.join(tokens)"
   ]
  },
  {
   "cell_type": "code",
   "execution_count": 52,
   "metadata": {},
   "outputs": [],
   "source": [
    "df = tweet_fc.copy()"
   ]
  },
  {
   "cell_type": "code",
   "execution_count": 53,
   "metadata": {},
   "outputs": [],
   "source": [
    "# only look at tweets before june 2021\n",
    "df = df[df['date'] < '2021-07-01']"
   ]
  },
  {
   "cell_type": "code",
   "execution_count": 54,
   "metadata": {},
   "outputs": [
    {
     "name": "stderr",
     "output_type": "stream",
     "text": [
      "[nltk_data] Downloading package stopwords to\n",
      "[nltk_data]     C:\\Users\\samtg\\AppData\\Roaming\\nltk_data...\n",
      "[nltk_data]   Package stopwords is already up-to-date!\n"
     ]
    }
   ],
   "source": [
    "nltk.download('stopwords')\n",
    "standard_stopwords = set(stopwords.words('english'))\n",
    "custom_stopwords = {'us','day','amp','thank','new','today','us','im','get','council','district','need','great',\n",
    "                    'work','nyc','city','join','support','office','proud','time','see','public','people','happy',\n",
    "                    'make','help','many','thanks','first','must','year','one','communities','together','last',\n",
    "                    'like','please','much','york','yorkers','every','de','colleagues','event','forward','love''members',\n",
    "                     'bronx','brooklyn','manhattan','queens','staten','island','community','important','team','week',\n",
    "                      'love','continue','joined','free','tomorrow', 'years','know', 'vote', 'lets','back','congratulations',\n",
    "                       'campaign','endorsement', 'neighbors','honored','keep','also','good','right','sign',\n",
    "                        'local', 'look', 'still','working', 'look', 'looking', 'congressman', '15','yes','go',\n",
    "                         'south','hunts','point','1','everyone','come','stand','way','cant'} \n",
    "all_stopwords = standard_stopwords.union(custom_stopwords)"
   ]
  },
  {
   "cell_type": "code",
   "execution_count": 55,
   "metadata": {},
   "outputs": [],
   "source": [
    "df['processed_text'] = df['text'].apply(lambda x: preprocess_text(x, all_stopwords))"
   ]
  },
  {
   "cell_type": "markdown",
   "metadata": {},
   "source": [
    "Count words to improve stopwords"
   ]
  },
  {
   "cell_type": "code",
   "execution_count": 40,
   "metadata": {},
   "outputs": [
    {
     "name": "stdout",
     "output_type": "stream",
     "text": [
      "[('workers', 1310), ('fight', 1118), ('justice', 942), ('housing', 781), ('vaccine', 693), ('health', 663), ('well', 661), ('dont', 649), ('pandemic', 643), ('black', 631), ('always', 612), ('families', 581), ('better', 571), ('women', 571), ('safe', 562), ('state', 548), ('park', 519), ('may', 517), ('family', 510), ('would', 509)]\n"
     ]
    }
   ],
   "source": [
    "all_words = ' '.join(df['processed_text']).split()\n",
    "word_freq = Counter(all_words)\n",
    "print(word_freq.most_common(20))"
   ]
  },
  {
   "cell_type": "markdown",
   "metadata": {},
   "source": [
    "tf-idf"
   ]
  },
  {
   "cell_type": "code",
   "execution_count": 56,
   "metadata": {},
   "outputs": [
    {
     "data": {
      "text/html": [
       "<div>\n",
       "<style scoped>\n",
       "    .dataframe tbody tr th:only-of-type {\n",
       "        vertical-align: middle;\n",
       "    }\n",
       "\n",
       "    .dataframe tbody tr th {\n",
       "        vertical-align: top;\n",
       "    }\n",
       "\n",
       "    .dataframe thead th {\n",
       "        text-align: right;\n",
       "    }\n",
       "</style>\n",
       "<table border=\"1\" class=\"dataframe\">\n",
       "  <thead>\n",
       "    <tr style=\"text-align: right;\">\n",
       "      <th></th>\n",
       "      <th>date</th>\n",
       "      <th>text</th>\n",
       "      <th>cluster</th>\n",
       "      <th>processed_text</th>\n",
       "    </tr>\n",
       "  </thead>\n",
       "  <tbody>\n",
       "    <tr>\n",
       "      <th>66989</th>\n",
       "      <td>2021-04-20 17:34:49+00:00</td>\n",
       "      <td>I joined several of my colleagues in the @NYCC...</td>\n",
       "      <td>4.0</td>\n",
       "      <td>several leaders department parks recreation em...</td>\n",
       "    </tr>\n",
       "    <tr>\n",
       "      <th>112279</th>\n",
       "      <td>2021-03-04 17:51:25+00:00</td>\n",
       "      <td>TONIGHT: NYC DOT is presenting a proposal to m...</td>\n",
       "      <td>1.0</td>\n",
       "      <td>tonight dot presenting proposal 7th 8th aves s...</td>\n",
       "    </tr>\n",
       "    <tr>\n",
       "      <th>67944</th>\n",
       "      <td>2021-04-04 14:51:12+00:00</td>\n",
       "      <td>He was a formerly outcast refugee, and working...</td>\n",
       "      <td>1.0</td>\n",
       "      <td>formerly outcast refugee workingclass carpente...</td>\n",
       "    </tr>\n",
       "    <tr>\n",
       "      <th>90723</th>\n",
       "      <td>2021-01-22 03:03:29+00:00</td>\n",
       "      <td>By far one of my fave meme's!! LOL.</td>\n",
       "      <td>4.0</td>\n",
       "      <td>far fave memes lol</td>\n",
       "    </tr>\n",
       "    <tr>\n",
       "      <th>112543</th>\n",
       "      <td>2021-03-29 22:23:21+00:00</td>\n",
       "      <td>A majority of New Yorkers agree: It's time to ...</td>\n",
       "      <td>4.0</td>\n",
       "      <td>majority agree tax rich invest fund vital serv...</td>\n",
       "    </tr>\n",
       "    <tr>\n",
       "      <th>85620</th>\n",
       "      <td>2021-02-02 05:08:16+00:00</td>\n",
       "      <td>https://t.co/Krq3iLWiuK</td>\n",
       "      <td>2.0</td>\n",
       "      <td></td>\n",
       "    </tr>\n",
       "    <tr>\n",
       "      <th>123731</th>\n",
       "      <td>2021-05-22 18:44:46+00:00</td>\n",
       "      <td>Thank you to Doug Montgomery, St. Anastasia Ch...</td>\n",
       "      <td>2.0</td>\n",
       "      <td>doug montgomery st anastasia church douglaston...</td>\n",
       "    </tr>\n",
       "    <tr>\n",
       "      <th>87804</th>\n",
       "      <td>2021-02-01 18:55:12+00:00</td>\n",
       "      <td>The careers and livelihoods of arts workers ar...</td>\n",
       "      <td>2.0</td>\n",
       "      <td>careers livelihoods arts workers threatened co...</td>\n",
       "    </tr>\n",
       "    <tr>\n",
       "      <th>107240</th>\n",
       "      <td>2021-06-16 15:36:09+00:00</td>\n",
       "      <td>@MGrossman92 @NYCMayor @scottmstringer @KGforN...</td>\n",
       "      <td>2.0</td>\n",
       "      <td></td>\n",
       "    </tr>\n",
       "    <tr>\n",
       "      <th>104207</th>\n",
       "      <td>2021-06-18 16:32:28+00:00</td>\n",
       "      <td>Honored to join @RepRitchie and the Union Comm...</td>\n",
       "      <td>0.0</td>\n",
       "      <td>union health center mobile dental unit ribbon ...</td>\n",
       "    </tr>\n",
       "  </tbody>\n",
       "</table>\n",
       "</div>"
      ],
      "text/plain": [
       "                            date  \\\n",
       "66989  2021-04-20 17:34:49+00:00   \n",
       "112279 2021-03-04 17:51:25+00:00   \n",
       "67944  2021-04-04 14:51:12+00:00   \n",
       "90723  2021-01-22 03:03:29+00:00   \n",
       "112543 2021-03-29 22:23:21+00:00   \n",
       "85620  2021-02-02 05:08:16+00:00   \n",
       "123731 2021-05-22 18:44:46+00:00   \n",
       "87804  2021-02-01 18:55:12+00:00   \n",
       "107240 2021-06-16 15:36:09+00:00   \n",
       "104207 2021-06-18 16:32:28+00:00   \n",
       "\n",
       "                                                     text  cluster  \\\n",
       "66989   I joined several of my colleagues in the @NYCC...      4.0   \n",
       "112279  TONIGHT: NYC DOT is presenting a proposal to m...      1.0   \n",
       "67944   He was a formerly outcast refugee, and working...      1.0   \n",
       "90723                 By far one of my fave meme's!! LOL.      4.0   \n",
       "112543  A majority of New Yorkers agree: It's time to ...      4.0   \n",
       "85620                             https://t.co/Krq3iLWiuK      2.0   \n",
       "123731  Thank you to Doug Montgomery, St. Anastasia Ch...      2.0   \n",
       "87804   The careers and livelihoods of arts workers ar...      2.0   \n",
       "107240  @MGrossman92 @NYCMayor @scottmstringer @KGforN...      2.0   \n",
       "104207  Honored to join @RepRitchie and the Union Comm...      0.0   \n",
       "\n",
       "                                           processed_text  \n",
       "66989   several leaders department parks recreation em...  \n",
       "112279  tonight dot presenting proposal 7th 8th aves s...  \n",
       "67944   formerly outcast refugee workingclass carpente...  \n",
       "90723                                  far fave memes lol  \n",
       "112543  majority agree tax rich invest fund vital serv...  \n",
       "85620                                                      \n",
       "123731  doug montgomery st anastasia church douglaston...  \n",
       "87804   careers livelihoods arts workers threatened co...  \n",
       "107240                                                     \n",
       "104207  union health center mobile dental unit ribbon ...  "
      ]
     },
     "execution_count": 56,
     "metadata": {},
     "output_type": "execute_result"
    }
   ],
   "source": [
    "df[['date','text','cluster','processed_text']].sample(10)"
   ]
  },
  {
   "cell_type": "code",
   "execution_count": 57,
   "metadata": {},
   "outputs": [],
   "source": [
    "cluster_texts = df.groupby('cluster')['processed_text'].apply(lambda x: ' '.join(x)).reset_index()\n",
    "tfidf_vectorizer = TfidfVectorizer()"
   ]
  },
  {
   "cell_type": "code",
   "execution_count": 58,
   "metadata": {},
   "outputs": [],
   "source": [
    "tfidf_matrix = tfidf_vectorizer.fit_transform(cluster_texts['processed_text'])\n",
    "tfidf_df = pd.DataFrame(tfidf_matrix.toarray(), columns=tfidf_vectorizer.get_feature_names_out(), index=cluster_texts['cluster'])"
   ]
  },
  {
   "cell_type": "code",
   "execution_count": 59,
   "metadata": {},
   "outputs": [],
   "source": [
    "top_n = 10 \n",
    "characteristic_words = {}\n",
    "for cluster in tfidf_df.index:\n",
    "    sorted_words = tfidf_df.loc[cluster].sort_values(ascending=False).head(top_n)\n",
    "    characteristic_words[cluster] = sorted_words.index.tolist()"
   ]
  },
  {
   "cell_type": "code",
   "execution_count": 60,
   "metadata": {},
   "outputs": [
    {
     "name": "stdout",
     "output_type": "stream",
     "text": [
      "{0.0: ['workers', 'candidate', 'best', 'voters', 'better', 'deserve', 'home', 'grateful', 'fight', 'councilman'], 1.0: ['fight', 'workers', 'justice', 'black', 'housing', 'women', 'la', 'folks', 'en', 'fighting'], 2.0: ['workers', 'fight', 'voters', 'health', 'pandemic', 'hate', 'justice', '2021', 'endorsed', 'covid'], 3.0: ['testing', 'food', 'happening', 'residents', '1070', 'covid', 'appointment', 'southern', 'site', 'housing'], 4.0: ['workers', 'vaccine', 'pandemic', 'covid19', 'fight', 'families', 'park', 'health', 'june', 'street']}\n"
     ]
    }
   ],
   "source": [
    "print(characteristic_words)"
   ]
  }
 ],
 "metadata": {
  "kernelspec": {
   "display_name": "Python 3",
   "language": "python",
   "name": "python3"
  },
  "language_info": {
   "codemirror_mode": {
    "name": "ipython",
    "version": 3
   },
   "file_extension": ".py",
   "mimetype": "text/x-python",
   "name": "python",
   "nbconvert_exporter": "python",
   "pygments_lexer": "ipython3",
   "version": "3.11.4"
  }
 },
 "nbformat": 4,
 "nbformat_minor": 2
}
